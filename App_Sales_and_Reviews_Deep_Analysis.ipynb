{
 "cells": [
  {
   "cell_type": "code",
   "execution_count": 1,
   "id": "6c5f8851-c2bf-4121-a783-d1915e05cde4",
   "metadata": {},
   "outputs": [],
   "source": [
    "from scipy.stats import ttest_ind\n",
    "from scipy.stats import ttest_rel\n",
    "from statsmodels.stats.multicomp import pairwise_tukeyhsd\n",
    "from statsmodels.stats.multicomp import MultiComparison as multi"
   ]
  },
  {
   "cell_type": "markdown",
   "id": "468623cd-ab18-4a8b-b1f7-a643f9595d3b",
   "metadata": {},
   "source": [
    "Part 1:"
   ]
  },
  {
   "cell_type": "code",
   "execution_count": 2,
   "id": "c03a0c53-0393-4142-bf88-7e1ed8cd1633",
   "metadata": {},
   "outputs": [],
   "source": [
    "import pandas as pd\n",
    "import numpy as np\n",
    "import scipy.stats as st\n",
    "\n",
    "dffb = pd.read_csv(\"customer_feedback.csv\")"
   ]
  },
  {
   "cell_type": "code",
   "execution_count": 3,
   "id": "748fae8e-e75c-4a5d-9ed4-696f63803602",
   "metadata": {},
   "outputs": [
    {
     "data": {
      "text/html": [
       "<div>\n",
       "<style scoped>\n",
       "    .dataframe tbody tr th:only-of-type {\n",
       "        vertical-align: middle;\n",
       "    }\n",
       "\n",
       "    .dataframe tbody tr th {\n",
       "        vertical-align: top;\n",
       "    }\n",
       "\n",
       "    .dataframe thead th {\n",
       "        text-align: right;\n",
       "    }\n",
       "</style>\n",
       "<table border=\"1\" class=\"dataframe\">\n",
       "  <thead>\n",
       "    <tr style=\"text-align: right;\">\n",
       "      <th></th>\n",
       "      <th>date</th>\n",
       "      <th>product</th>\n",
       "      <th>feedback_score</th>\n",
       "    </tr>\n",
       "  </thead>\n",
       "  <tbody>\n",
       "    <tr>\n",
       "      <th>0</th>\n",
       "      <td>2023-02-22</td>\n",
       "      <td>iOS</td>\n",
       "      <td>5</td>\n",
       "    </tr>\n",
       "    <tr>\n",
       "      <th>1</th>\n",
       "      <td>2023-05-22</td>\n",
       "      <td>Android</td>\n",
       "      <td>2</td>\n",
       "    </tr>\n",
       "    <tr>\n",
       "      <th>2</th>\n",
       "      <td>2022-11-22</td>\n",
       "      <td>iOS</td>\n",
       "      <td>2</td>\n",
       "    </tr>\n",
       "    <tr>\n",
       "      <th>3</th>\n",
       "      <td>2022-11-26</td>\n",
       "      <td>Android</td>\n",
       "      <td>10</td>\n",
       "    </tr>\n",
       "    <tr>\n",
       "      <th>4</th>\n",
       "      <td>2023-04-26</td>\n",
       "      <td>iOS</td>\n",
       "      <td>1</td>\n",
       "    </tr>\n",
       "    <tr>\n",
       "      <th>5</th>\n",
       "      <td>2022-12-04</td>\n",
       "      <td>Android</td>\n",
       "      <td>10</td>\n",
       "    </tr>\n",
       "    <tr>\n",
       "      <th>6</th>\n",
       "      <td>2023-08-14</td>\n",
       "      <td>iOS</td>\n",
       "      <td>9</td>\n",
       "    </tr>\n",
       "    <tr>\n",
       "      <th>7</th>\n",
       "      <td>2023-03-23</td>\n",
       "      <td>Android</td>\n",
       "      <td>8</td>\n",
       "    </tr>\n",
       "    <tr>\n",
       "      <th>8</th>\n",
       "      <td>2023-03-05</td>\n",
       "      <td>iOS</td>\n",
       "      <td>10</td>\n",
       "    </tr>\n",
       "    <tr>\n",
       "      <th>9</th>\n",
       "      <td>2023-08-22</td>\n",
       "      <td>Android</td>\n",
       "      <td>5</td>\n",
       "    </tr>\n",
       "  </tbody>\n",
       "</table>\n",
       "</div>"
      ],
      "text/plain": [
       "         date  product  feedback_score\n",
       "0  2023-02-22      iOS               5\n",
       "1  2023-05-22  Android               2\n",
       "2  2022-11-22      iOS               2\n",
       "3  2022-11-26  Android              10\n",
       "4  2023-04-26      iOS               1\n",
       "5  2022-12-04  Android              10\n",
       "6  2023-08-14      iOS               9\n",
       "7  2023-03-23  Android               8\n",
       "8  2023-03-05      iOS              10\n",
       "9  2023-08-22  Android               5"
      ]
     },
     "execution_count": 3,
     "metadata": {},
     "output_type": "execute_result"
    }
   ],
   "source": [
    "dffb.head(10)"
   ]
  },
  {
   "cell_type": "code",
   "execution_count": 4,
   "id": "83b06733-d1f5-4ebf-aab4-9b65f8a3927f",
   "metadata": {},
   "outputs": [
    {
     "data": {
      "text/plain": [
       "(500, 3)"
      ]
     },
     "execution_count": 4,
     "metadata": {},
     "output_type": "execute_result"
    }
   ],
   "source": [
    "dffb.shape"
   ]
  },
  {
   "cell_type": "code",
   "execution_count": 5,
   "id": "a5324237-c5b7-43d5-b3ef-e167eb2127b4",
   "metadata": {},
   "outputs": [
    {
     "name": "stdout",
     "output_type": "stream",
     "text": [
      "<class 'pandas.core.frame.DataFrame'>\n",
      "RangeIndex: 500 entries, 0 to 499\n",
      "Data columns (total 3 columns):\n",
      " #   Column          Non-Null Count  Dtype \n",
      "---  ------          --------------  ----- \n",
      " 0   date            500 non-null    object\n",
      " 1   product         500 non-null    object\n",
      " 2   feedback_score  500 non-null    int64 \n",
      "dtypes: int64(1), object(2)\n",
      "memory usage: 11.8+ KB\n"
     ]
    }
   ],
   "source": [
    "dffb.info()"
   ]
  },
  {
   "cell_type": "code",
   "execution_count": 6,
   "id": "f7635d7d-7669-4779-867b-57689cca6f19",
   "metadata": {},
   "outputs": [],
   "source": [
    "dfs = pd.read_csv(\"sales_data.csv\")"
   ]
  },
  {
   "cell_type": "code",
   "execution_count": 7,
   "id": "5be79641-cede-4300-8a63-ed80ef29ddf3",
   "metadata": {},
   "outputs": [
    {
     "data": {
      "text/html": [
       "<div>\n",
       "<style scoped>\n",
       "    .dataframe tbody tr th:only-of-type {\n",
       "        vertical-align: middle;\n",
       "    }\n",
       "\n",
       "    .dataframe tbody tr th {\n",
       "        vertical-align: top;\n",
       "    }\n",
       "\n",
       "    .dataframe thead th {\n",
       "        text-align: right;\n",
       "    }\n",
       "</style>\n",
       "<table border=\"1\" class=\"dataframe\">\n",
       "  <thead>\n",
       "    <tr style=\"text-align: right;\">\n",
       "      <th></th>\n",
       "      <th>date</th>\n",
       "      <th>product</th>\n",
       "      <th>sales</th>\n",
       "    </tr>\n",
       "  </thead>\n",
       "  <tbody>\n",
       "    <tr>\n",
       "      <th>0</th>\n",
       "      <td>2022-12-12</td>\n",
       "      <td>iOS</td>\n",
       "      <td>473</td>\n",
       "    </tr>\n",
       "    <tr>\n",
       "      <th>1</th>\n",
       "      <td>2022-12-12</td>\n",
       "      <td>Android</td>\n",
       "      <td>919</td>\n",
       "    </tr>\n",
       "    <tr>\n",
       "      <th>2</th>\n",
       "      <td>2023-06-24</td>\n",
       "      <td>iOS</td>\n",
       "      <td>805</td>\n",
       "    </tr>\n",
       "    <tr>\n",
       "      <th>3</th>\n",
       "      <td>2023-06-24</td>\n",
       "      <td>Android</td>\n",
       "      <td>996</td>\n",
       "    </tr>\n",
       "    <tr>\n",
       "      <th>4</th>\n",
       "      <td>2023-10-20</td>\n",
       "      <td>iOS</td>\n",
       "      <td>792</td>\n",
       "    </tr>\n",
       "    <tr>\n",
       "      <th>5</th>\n",
       "      <td>2023-10-20</td>\n",
       "      <td>Android</td>\n",
       "      <td>971</td>\n",
       "    </tr>\n",
       "    <tr>\n",
       "      <th>6</th>\n",
       "      <td>2023-02-24</td>\n",
       "      <td>iOS</td>\n",
       "      <td>985</td>\n",
       "    </tr>\n",
       "    <tr>\n",
       "      <th>7</th>\n",
       "      <td>2023-02-24</td>\n",
       "      <td>Android</td>\n",
       "      <td>329</td>\n",
       "    </tr>\n",
       "    <tr>\n",
       "      <th>8</th>\n",
       "      <td>2022-11-20</td>\n",
       "      <td>iOS</td>\n",
       "      <td>878</td>\n",
       "    </tr>\n",
       "    <tr>\n",
       "      <th>9</th>\n",
       "      <td>2022-11-20</td>\n",
       "      <td>Android</td>\n",
       "      <td>582</td>\n",
       "    </tr>\n",
       "  </tbody>\n",
       "</table>\n",
       "</div>"
      ],
      "text/plain": [
       "         date  product  sales\n",
       "0  2022-12-12      iOS    473\n",
       "1  2022-12-12  Android    919\n",
       "2  2023-06-24      iOS    805\n",
       "3  2023-06-24  Android    996\n",
       "4  2023-10-20      iOS    792\n",
       "5  2023-10-20  Android    971\n",
       "6  2023-02-24      iOS    985\n",
       "7  2023-02-24  Android    329\n",
       "8  2022-11-20      iOS    878\n",
       "9  2022-11-20  Android    582"
      ]
     },
     "execution_count": 7,
     "metadata": {},
     "output_type": "execute_result"
    }
   ],
   "source": [
    "dfs.head(10)"
   ]
  },
  {
   "cell_type": "code",
   "execution_count": 8,
   "id": "a6ed2e15-f02d-46ee-beb1-c748cbb74734",
   "metadata": {},
   "outputs": [
    {
     "data": {
      "text/plain": [
       "(500, 3)"
      ]
     },
     "execution_count": 8,
     "metadata": {},
     "output_type": "execute_result"
    }
   ],
   "source": [
    "dfs.shape"
   ]
  },
  {
   "cell_type": "code",
   "execution_count": 9,
   "id": "6d7891c3-c980-4116-98ce-3ac0e3345877",
   "metadata": {},
   "outputs": [
    {
     "name": "stdout",
     "output_type": "stream",
     "text": [
      "<class 'pandas.core.frame.DataFrame'>\n",
      "RangeIndex: 500 entries, 0 to 499\n",
      "Data columns (total 3 columns):\n",
      " #   Column   Non-Null Count  Dtype \n",
      "---  ------   --------------  ----- \n",
      " 0   date     500 non-null    object\n",
      " 1   product  500 non-null    object\n",
      " 2   sales    500 non-null    int64 \n",
      "dtypes: int64(1), object(2)\n",
      "memory usage: 11.8+ KB\n"
     ]
    }
   ],
   "source": [
    "dfs.info()"
   ]
  },
  {
   "cell_type": "code",
   "execution_count": 10,
   "id": "d186cdb8-ac13-4926-a410-72eaa0b68f9b",
   "metadata": {},
   "outputs": [],
   "source": [
    "dffb[\"date\"]=pd.to_datetime(dffb[\"date\"], format = \"%Y-%m-%d\")"
   ]
  },
  {
   "cell_type": "code",
   "execution_count": 11,
   "id": "31eba9d6-e5e4-4a6c-b3f8-b3401f7399e4",
   "metadata": {},
   "outputs": [
    {
     "data": {
      "text/html": [
       "<div>\n",
       "<style scoped>\n",
       "    .dataframe tbody tr th:only-of-type {\n",
       "        vertical-align: middle;\n",
       "    }\n",
       "\n",
       "    .dataframe tbody tr th {\n",
       "        vertical-align: top;\n",
       "    }\n",
       "\n",
       "    .dataframe thead th {\n",
       "        text-align: right;\n",
       "    }\n",
       "</style>\n",
       "<table border=\"1\" class=\"dataframe\">\n",
       "  <thead>\n",
       "    <tr style=\"text-align: right;\">\n",
       "      <th></th>\n",
       "      <th>date</th>\n",
       "      <th>product</th>\n",
       "      <th>feedback_score</th>\n",
       "    </tr>\n",
       "  </thead>\n",
       "  <tbody>\n",
       "    <tr>\n",
       "      <th>0</th>\n",
       "      <td>2023-02-22</td>\n",
       "      <td>iOS</td>\n",
       "      <td>5</td>\n",
       "    </tr>\n",
       "    <tr>\n",
       "      <th>1</th>\n",
       "      <td>2023-05-22</td>\n",
       "      <td>Android</td>\n",
       "      <td>2</td>\n",
       "    </tr>\n",
       "    <tr>\n",
       "      <th>2</th>\n",
       "      <td>2022-11-22</td>\n",
       "      <td>iOS</td>\n",
       "      <td>2</td>\n",
       "    </tr>\n",
       "    <tr>\n",
       "      <th>3</th>\n",
       "      <td>2022-11-26</td>\n",
       "      <td>Android</td>\n",
       "      <td>10</td>\n",
       "    </tr>\n",
       "    <tr>\n",
       "      <th>4</th>\n",
       "      <td>2023-04-26</td>\n",
       "      <td>iOS</td>\n",
       "      <td>1</td>\n",
       "    </tr>\n",
       "    <tr>\n",
       "      <th>5</th>\n",
       "      <td>2022-12-04</td>\n",
       "      <td>Android</td>\n",
       "      <td>10</td>\n",
       "    </tr>\n",
       "    <tr>\n",
       "      <th>6</th>\n",
       "      <td>2023-08-14</td>\n",
       "      <td>iOS</td>\n",
       "      <td>9</td>\n",
       "    </tr>\n",
       "    <tr>\n",
       "      <th>7</th>\n",
       "      <td>2023-03-23</td>\n",
       "      <td>Android</td>\n",
       "      <td>8</td>\n",
       "    </tr>\n",
       "    <tr>\n",
       "      <th>8</th>\n",
       "      <td>2023-03-05</td>\n",
       "      <td>iOS</td>\n",
       "      <td>10</td>\n",
       "    </tr>\n",
       "    <tr>\n",
       "      <th>9</th>\n",
       "      <td>2023-08-22</td>\n",
       "      <td>Android</td>\n",
       "      <td>5</td>\n",
       "    </tr>\n",
       "  </tbody>\n",
       "</table>\n",
       "</div>"
      ],
      "text/plain": [
       "        date  product  feedback_score\n",
       "0 2023-02-22      iOS               5\n",
       "1 2023-05-22  Android               2\n",
       "2 2022-11-22      iOS               2\n",
       "3 2022-11-26  Android              10\n",
       "4 2023-04-26      iOS               1\n",
       "5 2022-12-04  Android              10\n",
       "6 2023-08-14      iOS               9\n",
       "7 2023-03-23  Android               8\n",
       "8 2023-03-05      iOS              10\n",
       "9 2023-08-22  Android               5"
      ]
     },
     "execution_count": 11,
     "metadata": {},
     "output_type": "execute_result"
    }
   ],
   "source": [
    "dffb.head(10)"
   ]
  },
  {
   "cell_type": "code",
   "execution_count": 12,
   "id": "c9252a46-95c1-4afe-9e3a-510b16981e27",
   "metadata": {},
   "outputs": [
    {
     "data": {
      "text/plain": [
       "(500, 3)"
      ]
     },
     "execution_count": 12,
     "metadata": {},
     "output_type": "execute_result"
    }
   ],
   "source": [
    "dffb.shape"
   ]
  },
  {
   "cell_type": "code",
   "execution_count": 13,
   "id": "1ec2d8f3-cc23-471e-a937-0885fc2c2de9",
   "metadata": {},
   "outputs": [
    {
     "name": "stdout",
     "output_type": "stream",
     "text": [
      "<class 'pandas.core.frame.DataFrame'>\n",
      "RangeIndex: 500 entries, 0 to 499\n",
      "Data columns (total 3 columns):\n",
      " #   Column          Non-Null Count  Dtype         \n",
      "---  ------          --------------  -----         \n",
      " 0   date            500 non-null    datetime64[ns]\n",
      " 1   product         500 non-null    object        \n",
      " 2   feedback_score  500 non-null    int64         \n",
      "dtypes: datetime64[ns](1), int64(1), object(1)\n",
      "memory usage: 11.8+ KB\n"
     ]
    }
   ],
   "source": [
    "dffb.info()"
   ]
  },
  {
   "cell_type": "code",
   "execution_count": 14,
   "id": "fc60b0ce-7a35-4b58-92d7-ddfdd1aaf5ac",
   "metadata": {},
   "outputs": [],
   "source": [
    "dfs[\"date\"]=pd.to_datetime(dfs[\"date\"], format = \"%Y-%m-%d\")"
   ]
  },
  {
   "cell_type": "code",
   "execution_count": 15,
   "id": "6d738152-161b-4476-a87d-902f63199ff4",
   "metadata": {},
   "outputs": [
    {
     "data": {
      "text/html": [
       "<div>\n",
       "<style scoped>\n",
       "    .dataframe tbody tr th:only-of-type {\n",
       "        vertical-align: middle;\n",
       "    }\n",
       "\n",
       "    .dataframe tbody tr th {\n",
       "        vertical-align: top;\n",
       "    }\n",
       "\n",
       "    .dataframe thead th {\n",
       "        text-align: right;\n",
       "    }\n",
       "</style>\n",
       "<table border=\"1\" class=\"dataframe\">\n",
       "  <thead>\n",
       "    <tr style=\"text-align: right;\">\n",
       "      <th></th>\n",
       "      <th>date</th>\n",
       "      <th>product</th>\n",
       "      <th>sales</th>\n",
       "    </tr>\n",
       "  </thead>\n",
       "  <tbody>\n",
       "    <tr>\n",
       "      <th>0</th>\n",
       "      <td>2022-12-12</td>\n",
       "      <td>iOS</td>\n",
       "      <td>473</td>\n",
       "    </tr>\n",
       "    <tr>\n",
       "      <th>1</th>\n",
       "      <td>2022-12-12</td>\n",
       "      <td>Android</td>\n",
       "      <td>919</td>\n",
       "    </tr>\n",
       "    <tr>\n",
       "      <th>2</th>\n",
       "      <td>2023-06-24</td>\n",
       "      <td>iOS</td>\n",
       "      <td>805</td>\n",
       "    </tr>\n",
       "    <tr>\n",
       "      <th>3</th>\n",
       "      <td>2023-06-24</td>\n",
       "      <td>Android</td>\n",
       "      <td>996</td>\n",
       "    </tr>\n",
       "    <tr>\n",
       "      <th>4</th>\n",
       "      <td>2023-10-20</td>\n",
       "      <td>iOS</td>\n",
       "      <td>792</td>\n",
       "    </tr>\n",
       "    <tr>\n",
       "      <th>5</th>\n",
       "      <td>2023-10-20</td>\n",
       "      <td>Android</td>\n",
       "      <td>971</td>\n",
       "    </tr>\n",
       "    <tr>\n",
       "      <th>6</th>\n",
       "      <td>2023-02-24</td>\n",
       "      <td>iOS</td>\n",
       "      <td>985</td>\n",
       "    </tr>\n",
       "    <tr>\n",
       "      <th>7</th>\n",
       "      <td>2023-02-24</td>\n",
       "      <td>Android</td>\n",
       "      <td>329</td>\n",
       "    </tr>\n",
       "    <tr>\n",
       "      <th>8</th>\n",
       "      <td>2022-11-20</td>\n",
       "      <td>iOS</td>\n",
       "      <td>878</td>\n",
       "    </tr>\n",
       "    <tr>\n",
       "      <th>9</th>\n",
       "      <td>2022-11-20</td>\n",
       "      <td>Android</td>\n",
       "      <td>582</td>\n",
       "    </tr>\n",
       "  </tbody>\n",
       "</table>\n",
       "</div>"
      ],
      "text/plain": [
       "        date  product  sales\n",
       "0 2022-12-12      iOS    473\n",
       "1 2022-12-12  Android    919\n",
       "2 2023-06-24      iOS    805\n",
       "3 2023-06-24  Android    996\n",
       "4 2023-10-20      iOS    792\n",
       "5 2023-10-20  Android    971\n",
       "6 2023-02-24      iOS    985\n",
       "7 2023-02-24  Android    329\n",
       "8 2022-11-20      iOS    878\n",
       "9 2022-11-20  Android    582"
      ]
     },
     "execution_count": 15,
     "metadata": {},
     "output_type": "execute_result"
    }
   ],
   "source": [
    "dfs.head(10)"
   ]
  },
  {
   "cell_type": "code",
   "execution_count": 16,
   "id": "0b78ecb5-f480-4fd7-a59e-55b4be99d4ce",
   "metadata": {},
   "outputs": [
    {
     "data": {
      "text/plain": [
       "(500, 3)"
      ]
     },
     "execution_count": 16,
     "metadata": {},
     "output_type": "execute_result"
    }
   ],
   "source": [
    "dfs.shape"
   ]
  },
  {
   "cell_type": "code",
   "execution_count": 17,
   "id": "bf6cd478-af04-478c-9e2b-41ed18f40fe9",
   "metadata": {},
   "outputs": [
    {
     "name": "stdout",
     "output_type": "stream",
     "text": [
      "<class 'pandas.core.frame.DataFrame'>\n",
      "RangeIndex: 500 entries, 0 to 499\n",
      "Data columns (total 3 columns):\n",
      " #   Column   Non-Null Count  Dtype         \n",
      "---  ------   --------------  -----         \n",
      " 0   date     500 non-null    datetime64[ns]\n",
      " 1   product  500 non-null    object        \n",
      " 2   sales    500 non-null    int64         \n",
      "dtypes: datetime64[ns](1), int64(1), object(1)\n",
      "memory usage: 11.8+ KB\n"
     ]
    }
   ],
   "source": [
    "dfs.info()"
   ]
  },
  {
   "cell_type": "markdown",
   "id": "2dadf75f-80ba-413b-b1e0-831a71c97288",
   "metadata": {},
   "source": [
    "Before getting into the analysis, I want to point out that the way the data is presented is incredibly unclear as to how it is related to each other. I want to make it clear how I am interpreting the meaning of the csv files so that my decisions can be understood in the light of my interpretation. Firstly, the sales data represents monthly sales of the same app by on two different platforms but is presented by day in pairs of two, with sometimes 4, 6, and 8 entries on a single day, with 500 entries in total. I am going to interpret this as meaning that the listed day is the day that each app releases its sales data on both platform for the previous month up until that date, and there are 250 apps included in the data. \n",
    "\n",
    "Secondly, the feedback data is described as \"Contains customer ratings (1-10 scale) for\n",
    "both iOS and Android apps.\" It is also in pairs of two but now the dates do not line up at all and they certainly don't line up with the dates of the sales csv file. It is unclear whether the alternating pairs are the same app being reviewed on either platform on different days, whether those apps are the same apps that line up with same index number on the sales csv file, or whether the pattern is inconsequential and they are just random apps on each app store on its own date date with no data being gathered as to which app the review is being left for. It is unclear whether each entry is an individual customer rating made on that date or a specific app's average of all the reviews they received either on that date or over the lifespan of that app. \n",
    "\n",
    "Since both datasheets contain such similar datastructures in presentation (250 pairs of 2, alternating iOS and Android) and since some of this analysis seems pointless if it were otherwise, I am going to assume that the apps in each index position pair (e.g. 0 and 1, or 2 and 3, or 10 and 11) are the same app not only in the feedback csv file and in the Sales csv but across files. I am going to assume that the review date shows when the aggregate rating was captured but it is generally stable across that apps lifespan. Therefore, feedback can be compared across apps and can be assigned to a sales number."
   ]
  },
  {
   "cell_type": "markdown",
   "id": "94ef322f-f00f-4f43-8231-035557607167",
   "metadata": {},
   "source": [
    "Part 2:"
   ]
  },
  {
   "cell_type": "markdown",
   "id": "89c8ef04-2024-4489-9ac6-867d5198a572",
   "metadata": {},
   "source": [
    "Based on how I am interpreting the meaning of the data, this data would be considered paired. We have the aggregate ratings of the same group of apps across two platforms, just captured on different dates. Therefore, each data point is paired by app with one rating for the iOS app store and one for the Android app store. We are just looking for the existence of any difference so we are going to use a two tailed test. "
   ]
  },
  {
   "cell_type": "code",
   "execution_count": 18,
   "id": "84652028-6b23-4ce3-8991-aec3c6c24def",
   "metadata": {},
   "outputs": [],
   "source": [
    "# Pulling the data from all the entries in the column \"feedback_score\" and putting the records\n",
    "# that have \"iOS\" in the \"product\" column and putting the entires in one array, and putting\n",
    "# all the entries that have \"Android\" in the \"Product\" column in another array. \n",
    "iOS_feedback=np.array(dffb[\"feedback_score\"][dffb[\"product\"]==\"iOS\"])\n",
    "Android_feedback=np.array(dffb[\"feedback_score\"][dffb[\"product\"]==\"Android\"])"
   ]
  },
  {
   "cell_type": "code",
   "execution_count": 19,
   "id": "20b17016-800b-4e30-86d5-efa683ee8b3c",
   "metadata": {},
   "outputs": [
    {
     "name": "stdout",
     "output_type": "stream",
     "text": [
      "[ 5  2  1  9 10  1  8 10  9 10  7 10  1 10 10  4 10  7  2  1 10  8  2 10\n",
      "  2  8  2  3 10  8  7  4  3  5  7  5 10  8  5  3  1  3  4  5  6  3  3 10\n",
      "  6  6 10 10  7  9  1  2  7  4  4  2  3  4  6  1  9  7  6  7 10  2  2  1\n",
      "  2  6  5 10  6  6 10  3  6  7  4  6  6  9  9  2  1 10  3  9  3  1  4 10\n",
      "  1  9  1 10  2  7  4  8  6  9  9  2  1  6  8  9  2  8  1  7  6  2  4  8\n",
      "  5  9  5  9  7  3  9  4  2  3  9 10  8  4  5  3  7  6  8  6  9  7  8  2\n",
      "  4  3  6  4  9  9  5  6  3  5  8  1  7 10  9  7 10  8  3  6  3  7 10  7\n",
      "  9 10  8  8  8  1  3  7  2  9 10  3  6  2  7  7  8  7  9  5 10 10  7  7\n",
      "  7  1 10  6  8  6  3  1  9 10  6 10  1 10 10  2  8  8  8  4  7  8  5 10\n",
      "  1  4  7  3  5  4  4  5  1  3  1  3  9  6  5  3  9  9  2  3  6  1  3  4\n",
      "  2  2  2  7  9  3 10  6  7  3]\n"
     ]
    }
   ],
   "source": [
    "print(iOS_feedback)"
   ]
  },
  {
   "cell_type": "code",
   "execution_count": 20,
   "id": "f972ba2b-0211-4d76-8dcf-75768061d4c7",
   "metadata": {},
   "outputs": [
    {
     "data": {
      "text/plain": [
       "(250,)"
      ]
     },
     "execution_count": 20,
     "metadata": {},
     "output_type": "execute_result"
    }
   ],
   "source": [
    "iOS_feedback.shape"
   ]
  },
  {
   "cell_type": "code",
   "execution_count": 21,
   "id": "5a4f51f9-773b-438b-b5f3-d9876c358319",
   "metadata": {},
   "outputs": [
    {
     "name": "stdout",
     "output_type": "stream",
     "text": [
      "[ 2 10 10  8  5  1  1  6  9  6  6  5  3  7  9  8  8  5  9 10  6 10  4  4\n",
      "  1  8 10  6  4  1 10  3  8  4  1 10  9  5  4  2  1  4  5  8  9  4  2  2\n",
      "  4  2  8  9 10  8  8  2  8  4  7  1 10  6  8  1  3  8  6  7  9  4  5  9\n",
      " 10  2  9  8  9  9  1  6  2  2  4  4  5  7  5  1  7  3 10  3  2  7 10  1\n",
      "  9 10 10  8  2  2  4  8 10  1  8  1  3  2  4  1  3  2  2  8  4  4  3  7\n",
      " 10  3  3  8  2  8  8  8  2  1  4  7  7 10  6  4  6  2  1  6  1  8 10  7\n",
      "  4  8  5  2  8  5  9  5  3  8  4  8  7  6  2  2  4  7  1  1  9  5  8  2\n",
      "  1  4  1  3  2  9  7  3  6  1  8 10  6  7 10  1  1  1 10  1  2  7  5  6\n",
      "  3  6  4  8  4  5  1  2  5  5  8  2  2  8  8 10  4  4 10  9  7  4 10  1\n",
      "  6  1  1  5  9  5  4  7  7  6  4  5  7 10  7  1  1  2  6  2  1  4  4  6\n",
      "  7  1  9  2  5  1  5  5  5  9]\n"
     ]
    }
   ],
   "source": [
    "print(Android_feedback)"
   ]
  },
  {
   "cell_type": "code",
   "execution_count": 22,
   "id": "89c88e2a-0d5a-4edb-b8c7-1c9167a02db1",
   "metadata": {},
   "outputs": [
    {
     "data": {
      "text/plain": [
       "(250,)"
      ]
     },
     "execution_count": 22,
     "metadata": {},
     "output_type": "execute_result"
    }
   ],
   "source": [
    "Android_feedback.shape"
   ]
  },
  {
   "cell_type": "code",
   "execution_count": 23,
   "id": "61c26ac1-5790-4ba7-bb2e-6f06edce6a8c",
   "metadata": {},
   "outputs": [],
   "source": [
    "# Conjoining the arrays into one two demensional array with 2 rows and 250 columns. The iOS\n",
    "# array in the first column and the Android array in the second column.\n",
    "feedback = np.array([iOS_feedback, Android_feedback])"
   ]
  },
  {
   "cell_type": "code",
   "execution_count": 24,
   "id": "eb15492f-0f57-41f9-9ac8-59b2e7841712",
   "metadata": {},
   "outputs": [
    {
     "name": "stdout",
     "output_type": "stream",
     "text": [
      "[[ 5  2  1  9 10  1  8 10  9 10  7 10  1 10 10  4 10  7  2  1 10  8  2 10\n",
      "   2  8  2  3 10  8  7  4  3  5  7  5 10  8  5  3  1  3  4  5  6  3  3 10\n",
      "   6  6 10 10  7  9  1  2  7  4  4  2  3  4  6  1  9  7  6  7 10  2  2  1\n",
      "   2  6  5 10  6  6 10  3  6  7  4  6  6  9  9  2  1 10  3  9  3  1  4 10\n",
      "   1  9  1 10  2  7  4  8  6  9  9  2  1  6  8  9  2  8  1  7  6  2  4  8\n",
      "   5  9  5  9  7  3  9  4  2  3  9 10  8  4  5  3  7  6  8  6  9  7  8  2\n",
      "   4  3  6  4  9  9  5  6  3  5  8  1  7 10  9  7 10  8  3  6  3  7 10  7\n",
      "   9 10  8  8  8  1  3  7  2  9 10  3  6  2  7  7  8  7  9  5 10 10  7  7\n",
      "   7  1 10  6  8  6  3  1  9 10  6 10  1 10 10  2  8  8  8  4  7  8  5 10\n",
      "   1  4  7  3  5  4  4  5  1  3  1  3  9  6  5  3  9  9  2  3  6  1  3  4\n",
      "   2  2  2  7  9  3 10  6  7  3]\n",
      " [ 2 10 10  8  5  1  1  6  9  6  6  5  3  7  9  8  8  5  9 10  6 10  4  4\n",
      "   1  8 10  6  4  1 10  3  8  4  1 10  9  5  4  2  1  4  5  8  9  4  2  2\n",
      "   4  2  8  9 10  8  8  2  8  4  7  1 10  6  8  1  3  8  6  7  9  4  5  9\n",
      "  10  2  9  8  9  9  1  6  2  2  4  4  5  7  5  1  7  3 10  3  2  7 10  1\n",
      "   9 10 10  8  2  2  4  8 10  1  8  1  3  2  4  1  3  2  2  8  4  4  3  7\n",
      "  10  3  3  8  2  8  8  8  2  1  4  7  7 10  6  4  6  2  1  6  1  8 10  7\n",
      "   4  8  5  2  8  5  9  5  3  8  4  8  7  6  2  2  4  7  1  1  9  5  8  2\n",
      "   1  4  1  3  2  9  7  3  6  1  8 10  6  7 10  1  1  1 10  1  2  7  5  6\n",
      "   3  6  4  8  4  5  1  2  5  5  8  2  2  8  8 10  4  4 10  9  7  4 10  1\n",
      "   6  1  1  5  9  5  4  7  7  6  4  5  7 10  7  1  1  2  6  2  1  4  4  6\n",
      "   7  1  9  2  5  1  5  5  5  9]]\n"
     ]
    }
   ],
   "source": [
    "print(feedback)"
   ]
  },
  {
   "cell_type": "code",
   "execution_count": 25,
   "id": "83a6685c-fbe9-4a23-96ce-7b42c84f9544",
   "metadata": {},
   "outputs": [
    {
     "data": {
      "text/plain": [
       "(2, 250)"
      ]
     },
     "execution_count": 25,
     "metadata": {},
     "output_type": "execute_result"
    }
   ],
   "source": [
    "feedback.shape"
   ]
  },
  {
   "cell_type": "code",
   "execution_count": 26,
   "id": "be253f24-b3bb-4a01-8bc6-a4e63112f305",
   "metadata": {},
   "outputs": [],
   "source": [
    "# Cunducting a paired t-test\n",
    "PairedT = ttest_rel(feedback[0],feedback[1])\n"
   ]
  },
  {
   "cell_type": "code",
   "execution_count": 27,
   "id": "b7d7307b-bd84-4d8d-a1c2-8521afb0ddc8",
   "metadata": {},
   "outputs": [
    {
     "name": "stdout",
     "output_type": "stream",
     "text": [
      "TtestResult(statistic=np.float64(1.8888927560313111), pvalue=np.float64(0.06006832628158419), df=np.int64(249))\n"
     ]
    }
   ],
   "source": [
    "print(PairedT)"
   ]
  },
  {
   "cell_type": "markdown",
   "id": "63468f63-836b-444d-ac6d-385acabcb044",
   "metadata": {},
   "source": [
    "A p-value of ~.0601 is just barely above the threshold of .05 meaning we fail to reject the null hypothesis. This shows that there is just not enough of a difference samples to be certain there is a significant difference between the ratings given people of both population and that the difference seen in the samples isn't caused by statistical noise. Larger samples might lead to the noise going away, or if the the means and standard deviations stay the same then the p-value would shrink and likely cross the threshold to be able to reject the null hypothesis. As it stands we cannot determine that there is a difference in how apple and android users rate the same app across the different platforms and therefore must assume that there isn't a difference in ratings."
   ]
  },
  {
   "cell_type": "markdown",
   "id": "332f3863-9f7a-474a-84ad-cc5f2fcca1ed",
   "metadata": {},
   "source": [
    "Part 3:"
   ]
  },
  {
   "cell_type": "code",
   "execution_count": 28,
   "id": "56136e86-9b87-4580-82bb-a456615ad3a7",
   "metadata": {},
   "outputs": [],
   "source": [
    "# Putting all sales entries that where reported before March 1st, 2023 into one array and\n",
    "# all that were reported after into a second array. As I am assuming that the date in sales\n",
    "# represents the previous months sales, I think its only appropriate to exclude the month of\n",
    "# data where the sales campaign launched in the middle of the data collection. Thus, any sales\n",
    "# reported in March of 2023 will be excluded.\n",
    "pre_campaign=np.array(dfs[\"sales\"][dfs[\"date\"] < \"2023-03-01\"])\n",
    "post_campaign=np.array(dfs[\"sales\"][dfs[\"date\"] >= \"2023-04-01\"])"
   ]
  },
  {
   "cell_type": "code",
   "execution_count": 29,
   "id": "465310df-7c83-48c7-b3a6-35759ee4f46f",
   "metadata": {},
   "outputs": [
    {
     "name": "stdout",
     "output_type": "stream",
     "text": [
      "[473 919 985 329 878 582 449 416 952 133 844 704 357 385 262 265 523 103\n",
      " 885 278 142 777 955 975 230 965 679 496 687 172 112 767 281 904 881 368\n",
      " 564 546 914 216 886 911 564 882 922 330 165 832 514 152 808 118 425 368\n",
      " 561 821 339 398 519 755 956 961 629 681 462 576 543 293 261 654 884 433\n",
      " 432 961 125 800 891 704 540 579 157 269 180 329 334 615 687 998 947 892\n",
      " 902 509 810 760 941 120 898 814 259 145 222 102 216 453 916 119 806 803\n",
      " 565 433 206 657 719 667 836 413 345 404 330 644 392 119 794 808 740 174\n",
      " 932 990 548 459 713 828 621 995 306 918 493 377 254 817 979 108 214 918\n",
      " 247 373 816 913]\n"
     ]
    }
   ],
   "source": [
    "print(pre_campaign)"
   ]
  },
  {
   "cell_type": "code",
   "execution_count": 30,
   "id": "2cac18c9-9909-4ab5-b8ab-14d10b3bd2af",
   "metadata": {},
   "outputs": [
    {
     "data": {
      "text/plain": [
       "(148,)"
      ]
     },
     "execution_count": 30,
     "metadata": {},
     "output_type": "execute_result"
    }
   ],
   "source": [
    "pre_campaign.shape"
   ]
  },
  {
   "cell_type": "code",
   "execution_count": 31,
   "id": "bc5b349f-d8d5-4f7a-ab81-a3de804c3fec",
   "metadata": {},
   "outputs": [
    {
     "name": "stdout",
     "output_type": "stream",
     "text": [
      "[805 996 792 971 506 464 989 807 999 384 967 480 530 551 885 459 185 439\n",
      " 271 837 624 718 409 177 737 667 780 689 345 814 108 981 626 918 270 289\n",
      " 833 376 636 547 729 705 618 829 244 460 378 549 888 174 813 458 291 295\n",
      " 580 330 103 621 394 357 691 105 883 961 713 763 838 404 710 917 735 248\n",
      " 732 147 660 447 835 817 587 705 847 212 142 896 162 765 906 719 784 477\n",
      " 643 674 899 309 535 134 333 588 813 296 843 625 570 304 349 820 761 719\n",
      " 755 599 498 520 606 931 875 618 505 773 288 955 784 393 444 778 686 301\n",
      " 148 575 682 295 805 104 938 409 342 860 661 435 398 293 313 608 946 957\n",
      " 502 482 205 515 383 264 370 338 894 820 791 515 613 567 467 453 808 647\n",
      " 893 554 305 686 484 965 737 520 345 339 440 649 973 608 915 690 656 149\n",
      " 217 670 384 612 262 815 433 188 630 782 443 710 446 436 455 697 526 406\n",
      " 202 788 838 893 189 784 394 711 917 895 283 120 435 200 477 690 426 781\n",
      " 465 585 819 298 182 996 990 849 342 536 928 217 244 637 447 251 380 788\n",
      " 182 881 187 671 752 665 164 626 803 534 851 131 820 828 215 506 700 257\n",
      " 366 680 352 401 271 521 760 308 331 852 277 444 139 458 153 160 744 907\n",
      " 356 257 123 113 222 932 432 822 756 935 308 888 579 387 875 614 643 876\n",
      " 903 535 104 106 474 625 664 861 893 659 986 607 161 562 999 437 250 206\n",
      " 902 164 984 642 607 446]\n"
     ]
    }
   ],
   "source": [
    "print(post_campaign)"
   ]
  },
  {
   "cell_type": "code",
   "execution_count": 32,
   "id": "a385e879-fc38-40f3-9c73-729253058d6b",
   "metadata": {},
   "outputs": [
    {
     "data": {
      "text/plain": [
       "(312,)"
      ]
     },
     "execution_count": 32,
     "metadata": {},
     "output_type": "execute_result"
    }
   ],
   "source": [
    "post_campaign.shape"
   ]
  },
  {
   "cell_type": "code",
   "execution_count": 33,
   "id": "16d24b5e-7577-4c57-9934-b507e81d6f3a",
   "metadata": {},
   "outputs": [
    {
     "data": {
      "text/plain": [
       "460"
      ]
     },
     "execution_count": 33,
     "metadata": {},
     "output_type": "execute_result"
    }
   ],
   "source": [
    "148 + 312"
   ]
  },
  {
   "cell_type": "markdown",
   "id": "bf68cbf5-a61c-4128-8705-50dcffbfb9f5",
   "metadata": {},
   "source": [
    "Despite the data being before-and-after, there is nothing tying any of the specific datapoints from before the campaign to after the campaign, like sails on a specific day of the year, or per app before and after, so it is unpaired and independent. We are still just looking for if the campaign had an impact so we will use two-tailed."
   ]
  },
  {
   "cell_type": "code",
   "execution_count": 34,
   "id": "ffc5ccd1-404d-4c77-8a4a-279c02e74806",
   "metadata": {},
   "outputs": [],
   "source": [
    "# Testing if we need to assume equal or unequal variance based on if the standard deviation\n",
    "# of the larger array is more than two times greater than the standard deviation of the smaller\n",
    "EqualVar = True\n",
    "if pre_campaign.std() > post_campaign.std():\n",
    "    if (pre_campaign.std() / post_campaign.std()) > 2:\n",
    "        EqualVar = False\n",
    "else:\n",
    "    if (post_campaign.std() / pre_campaign.std()) > 2:\n",
    "        EqualVar = False"
   ]
  },
  {
   "cell_type": "code",
   "execution_count": 35,
   "id": "c2879490-7131-4f72-9be6-03282a69bdec",
   "metadata": {},
   "outputs": [
    {
     "name": "stdout",
     "output_type": "stream",
     "text": [
      "TtestResult(statistic=np.float64(0.17298529520949715), pvalue=np.float64(0.862739406552252), df=np.float64(458.0))\n"
     ]
    }
   ],
   "source": [
    "# Intializing the independent t test and printing results\n",
    "salesT = ttest_ind(pre_campaign, post_campaign, equal_var=EqualVar)\n",
    "print (salesT)"
   ]
  },
  {
   "cell_type": "markdown",
   "id": "def7a3d4-c277-47af-b2df-448aedf516e6",
   "metadata": {},
   "source": [
    "A p-value of ~0.8627 does not reach the .05 threshold and therefore we fail to reject the null hypothesis. This shows that the campaign almost certainly did not have a significant effect on sales. "
   ]
  },
  {
   "cell_type": "markdown",
   "id": "952cf3e3-c112-4881-bf91-a590bb26312b",
   "metadata": {},
   "source": [
    "Part 4:"
   ]
  },
  {
   "cell_type": "code",
   "execution_count": 36,
   "id": "c780e61b-2eba-469f-9a77-1c59b8ea64de",
   "metadata": {},
   "outputs": [],
   "source": [
    "# We are checking if summer months have higher sales than winter months, so we need to create\n",
    "# a new column that just extracts the month out of the date incase a month is reported across\n",
    "# more than one year.\n",
    "dfs[\"month\"] = dfs[\"date\"].dt.month"
   ]
  },
  {
   "cell_type": "code",
   "execution_count": 37,
   "id": "c94082f6-858b-4f81-9564-be2dcd03700f",
   "metadata": {},
   "outputs": [
    {
     "data": {
      "text/html": [
       "<div>\n",
       "<style scoped>\n",
       "    .dataframe tbody tr th:only-of-type {\n",
       "        vertical-align: middle;\n",
       "    }\n",
       "\n",
       "    .dataframe tbody tr th {\n",
       "        vertical-align: top;\n",
       "    }\n",
       "\n",
       "    .dataframe thead th {\n",
       "        text-align: right;\n",
       "    }\n",
       "</style>\n",
       "<table border=\"1\" class=\"dataframe\">\n",
       "  <thead>\n",
       "    <tr style=\"text-align: right;\">\n",
       "      <th></th>\n",
       "      <th>date</th>\n",
       "      <th>product</th>\n",
       "      <th>sales</th>\n",
       "      <th>month</th>\n",
       "    </tr>\n",
       "  </thead>\n",
       "  <tbody>\n",
       "    <tr>\n",
       "      <th>0</th>\n",
       "      <td>2022-12-12</td>\n",
       "      <td>iOS</td>\n",
       "      <td>473</td>\n",
       "      <td>12</td>\n",
       "    </tr>\n",
       "    <tr>\n",
       "      <th>1</th>\n",
       "      <td>2022-12-12</td>\n",
       "      <td>Android</td>\n",
       "      <td>919</td>\n",
       "      <td>12</td>\n",
       "    </tr>\n",
       "    <tr>\n",
       "      <th>2</th>\n",
       "      <td>2023-06-24</td>\n",
       "      <td>iOS</td>\n",
       "      <td>805</td>\n",
       "      <td>6</td>\n",
       "    </tr>\n",
       "    <tr>\n",
       "      <th>3</th>\n",
       "      <td>2023-06-24</td>\n",
       "      <td>Android</td>\n",
       "      <td>996</td>\n",
       "      <td>6</td>\n",
       "    </tr>\n",
       "    <tr>\n",
       "      <th>4</th>\n",
       "      <td>2023-10-20</td>\n",
       "      <td>iOS</td>\n",
       "      <td>792</td>\n",
       "      <td>10</td>\n",
       "    </tr>\n",
       "    <tr>\n",
       "      <th>5</th>\n",
       "      <td>2023-10-20</td>\n",
       "      <td>Android</td>\n",
       "      <td>971</td>\n",
       "      <td>10</td>\n",
       "    </tr>\n",
       "    <tr>\n",
       "      <th>6</th>\n",
       "      <td>2023-02-24</td>\n",
       "      <td>iOS</td>\n",
       "      <td>985</td>\n",
       "      <td>2</td>\n",
       "    </tr>\n",
       "    <tr>\n",
       "      <th>7</th>\n",
       "      <td>2023-02-24</td>\n",
       "      <td>Android</td>\n",
       "      <td>329</td>\n",
       "      <td>2</td>\n",
       "    </tr>\n",
       "    <tr>\n",
       "      <th>8</th>\n",
       "      <td>2022-11-20</td>\n",
       "      <td>iOS</td>\n",
       "      <td>878</td>\n",
       "      <td>11</td>\n",
       "    </tr>\n",
       "    <tr>\n",
       "      <th>9</th>\n",
       "      <td>2022-11-20</td>\n",
       "      <td>Android</td>\n",
       "      <td>582</td>\n",
       "      <td>11</td>\n",
       "    </tr>\n",
       "  </tbody>\n",
       "</table>\n",
       "</div>"
      ],
      "text/plain": [
       "        date  product  sales  month\n",
       "0 2022-12-12      iOS    473     12\n",
       "1 2022-12-12  Android    919     12\n",
       "2 2023-06-24      iOS    805      6\n",
       "3 2023-06-24  Android    996      6\n",
       "4 2023-10-20      iOS    792     10\n",
       "5 2023-10-20  Android    971     10\n",
       "6 2023-02-24      iOS    985      2\n",
       "7 2023-02-24  Android    329      2\n",
       "8 2022-11-20      iOS    878     11\n",
       "9 2022-11-20  Android    582     11"
      ]
     },
     "execution_count": 37,
     "metadata": {},
     "output_type": "execute_result"
    }
   ],
   "source": [
    "dfs.head(10)"
   ]
  },
  {
   "cell_type": "code",
   "execution_count": 38,
   "id": "a2a5e88e-b023-49b2-952b-0cbc74e1fc12",
   "metadata": {},
   "outputs": [
    {
     "data": {
      "text/plain": [
       "(500, 4)"
      ]
     },
     "execution_count": 38,
     "metadata": {},
     "output_type": "execute_result"
    }
   ],
   "source": [
    "dfs.shape"
   ]
  },
  {
   "cell_type": "code",
   "execution_count": 39,
   "id": "85c0a222-b33b-45e6-9c3f-d739ee9af2b1",
   "metadata": {},
   "outputs": [],
   "source": [
    "# Putting all the sales data for months 1, 2, and 12 in the winter array and all the sales \n",
    "# data from months 6, 7, and 8 into the summer array\n",
    "winter=np.array(dfs[\"sales\"][(dfs[\"month\"] == 12) | (dfs[\"month\"] < 3)])\n",
    "summer=np.array(dfs[\"sales\"][(dfs[\"month\"] < 9) & (dfs[\"month\"] > 5)])"
   ]
  },
  {
   "cell_type": "code",
   "execution_count": 40,
   "id": "5b98ee1c-162e-4fa2-8997-6a4c22eedafb",
   "metadata": {},
   "outputs": [
    {
     "name": "stdout",
     "output_type": "stream",
     "text": [
      "[473 919 985 329 449 416 952 133 844 704 357 385 262 265 523 103 885 278\n",
      " 142 777 955 975 679 496 687 172 112 767 281 904 881 368 564 546 886 911\n",
      " 564 882 922 330 165 832 514 152 808 118 425 368 561 821 519 755 956 961\n",
      " 629 681 462 576 543 293 261 654 884 433 432 961 891 704 540 579 157 269\n",
      " 180 329 334 615 687 998 947 892 902 509 810 760 941 120 898 814 259 145\n",
      " 222 102 216 453 916 119 806 803 206 657 719 667 836 413 345 404 330 644\n",
      " 794 808 740 174 548 459 713 828 621 995 306 918 493 377 254 817 979 108\n",
      " 214 918 247 373 816 913]\n"
     ]
    }
   ],
   "source": [
    "print(winter)"
   ]
  },
  {
   "cell_type": "code",
   "execution_count": 41,
   "id": "23662f31-4bfb-4ea0-bdb7-bf15d88e4e33",
   "metadata": {},
   "outputs": [
    {
     "name": "stdout",
     "output_type": "stream",
     "text": [
      "[805 996 999 384 530 551 885 459 624 718 780 689 108 981 636 547 618 829\n",
      " 378 549 888 174 813 458 291 295 394 357 713 763 732 147 835 817 587 705\n",
      " 142 896 643 674 535 134 813 296 843 625 570 304 349 820 761 719 606 931\n",
      " 505 773 686 301 682 295 805 104 502 482 370 338 791 515 915 690 656 149\n",
      " 217 670 630 782 443 710 526 406 189 784 917 895 283 120 182 996 990 849\n",
      " 342 536 244 637 380 788 182 881 752 665 164 626 271 521 760 308 277 444\n",
      " 432 822 308 888 579 387 875 614 474 625 664 861 161 562 999 437 607 446]\n"
     ]
    }
   ],
   "source": [
    "print(summer)"
   ]
  },
  {
   "cell_type": "code",
   "execution_count": 42,
   "id": "b7954ce4-4c66-43e6-9015-4613e4f8ca77",
   "metadata": {},
   "outputs": [
    {
     "data": {
      "text/plain": [
       "(132,)"
      ]
     },
     "execution_count": 42,
     "metadata": {},
     "output_type": "execute_result"
    }
   ],
   "source": [
    "winter.shape"
   ]
  },
  {
   "cell_type": "code",
   "execution_count": 43,
   "id": "29c6dd13-2bbd-42b2-9b54-7c61dca11f57",
   "metadata": {},
   "outputs": [
    {
     "data": {
      "text/plain": [
       "(126,)"
      ]
     },
     "execution_count": 43,
     "metadata": {},
     "output_type": "execute_result"
    }
   ],
   "source": [
    "summer.shape"
   ]
  },
  {
   "cell_type": "markdown",
   "id": "8d1654eb-b1db-40e8-800c-95079668b634",
   "metadata": {},
   "source": [
    "This test is no difference from part three in terms of set up as the same data is being evaluated just with a different demarkation of which records to be included and compared against each other. Thus it is still unpaired and independent. We are still just looking for any difference so it is still two tailed"
   ]
  },
  {
   "cell_type": "code",
   "execution_count": 44,
   "id": "f82525d6-76f0-4d82-942b-0a74bc72d046",
   "metadata": {},
   "outputs": [],
   "source": [
    "# Settting up the equal variance assumption test again\n",
    "EqualVar = True\n",
    "if winter.std() > summer.std():\n",
    "    if (winter.std() / summer.std()) > 2:\n",
    "        EqualVar = False\n",
    "else:\n",
    "    if (summer.std() / winter.std()) > 2:\n",
    "        EqualVar = False"
   ]
  },
  {
   "cell_type": "code",
   "execution_count": 45,
   "id": "ffdd4690-215c-4f2a-92d7-bc0abba4ba68",
   "metadata": {},
   "outputs": [
    {
     "name": "stdout",
     "output_type": "stream",
     "text": [
      "TtestResult(statistic=np.float64(-0.09927308556714513), pvalue=np.float64(0.9209991394112975), df=np.float64(256.0))\n"
     ]
    }
   ],
   "source": [
    "# Running the independent t test. \n",
    "seasonsT = ttest_ind(winter, summer, equal_var=EqualVar)\n",
    "print (seasonsT)"
   ]
  },
  {
   "cell_type": "markdown",
   "id": "624ce109-8fb5-4882-94dd-948c61e21c57",
   "metadata": {},
   "source": [
    "With a p-value of ~.9210 the score does not meet the threshold of .05 and thus we fail to reject the null hypthesis. Therefore we find no significant difference in the sales levels in summer vs winter."
   ]
  },
  {
   "cell_type": "markdown",
   "id": "e8ed7209-835e-4ec8-a3a9-8c592b64a997",
   "metadata": {},
   "source": [
    "Part 5:"
   ]
  },
  {
   "cell_type": "code",
   "execution_count": 46,
   "id": "e69a438e-a021-4e05-812d-248c57cd8b35",
   "metadata": {},
   "outputs": [],
   "source": [
    "# Creating the month columns for feedback_score dataframe as we did with the sales dataframe\n",
    "dffb[\"month\"] = dffb[\"date\"].dt.month"
   ]
  },
  {
   "cell_type": "code",
   "execution_count": 47,
   "id": "de7df979-7685-4adf-aef4-6526f182e224",
   "metadata": {},
   "outputs": [
    {
     "data": {
      "text/html": [
       "<div>\n",
       "<style scoped>\n",
       "    .dataframe tbody tr th:only-of-type {\n",
       "        vertical-align: middle;\n",
       "    }\n",
       "\n",
       "    .dataframe tbody tr th {\n",
       "        vertical-align: top;\n",
       "    }\n",
       "\n",
       "    .dataframe thead th {\n",
       "        text-align: right;\n",
       "    }\n",
       "</style>\n",
       "<table border=\"1\" class=\"dataframe\">\n",
       "  <thead>\n",
       "    <tr style=\"text-align: right;\">\n",
       "      <th></th>\n",
       "      <th>date</th>\n",
       "      <th>product</th>\n",
       "      <th>feedback_score</th>\n",
       "      <th>month</th>\n",
       "    </tr>\n",
       "  </thead>\n",
       "  <tbody>\n",
       "    <tr>\n",
       "      <th>0</th>\n",
       "      <td>2023-02-22</td>\n",
       "      <td>iOS</td>\n",
       "      <td>5</td>\n",
       "      <td>2</td>\n",
       "    </tr>\n",
       "    <tr>\n",
       "      <th>1</th>\n",
       "      <td>2023-05-22</td>\n",
       "      <td>Android</td>\n",
       "      <td>2</td>\n",
       "      <td>5</td>\n",
       "    </tr>\n",
       "    <tr>\n",
       "      <th>2</th>\n",
       "      <td>2022-11-22</td>\n",
       "      <td>iOS</td>\n",
       "      <td>2</td>\n",
       "      <td>11</td>\n",
       "    </tr>\n",
       "    <tr>\n",
       "      <th>3</th>\n",
       "      <td>2022-11-26</td>\n",
       "      <td>Android</td>\n",
       "      <td>10</td>\n",
       "      <td>11</td>\n",
       "    </tr>\n",
       "    <tr>\n",
       "      <th>4</th>\n",
       "      <td>2023-04-26</td>\n",
       "      <td>iOS</td>\n",
       "      <td>1</td>\n",
       "      <td>4</td>\n",
       "    </tr>\n",
       "    <tr>\n",
       "      <th>5</th>\n",
       "      <td>2022-12-04</td>\n",
       "      <td>Android</td>\n",
       "      <td>10</td>\n",
       "      <td>12</td>\n",
       "    </tr>\n",
       "    <tr>\n",
       "      <th>6</th>\n",
       "      <td>2023-08-14</td>\n",
       "      <td>iOS</td>\n",
       "      <td>9</td>\n",
       "      <td>8</td>\n",
       "    </tr>\n",
       "    <tr>\n",
       "      <th>7</th>\n",
       "      <td>2023-03-23</td>\n",
       "      <td>Android</td>\n",
       "      <td>8</td>\n",
       "      <td>3</td>\n",
       "    </tr>\n",
       "    <tr>\n",
       "      <th>8</th>\n",
       "      <td>2023-03-05</td>\n",
       "      <td>iOS</td>\n",
       "      <td>10</td>\n",
       "      <td>3</td>\n",
       "    </tr>\n",
       "    <tr>\n",
       "      <th>9</th>\n",
       "      <td>2023-08-22</td>\n",
       "      <td>Android</td>\n",
       "      <td>5</td>\n",
       "      <td>8</td>\n",
       "    </tr>\n",
       "  </tbody>\n",
       "</table>\n",
       "</div>"
      ],
      "text/plain": [
       "        date  product  feedback_score  month\n",
       "0 2023-02-22      iOS               5      2\n",
       "1 2023-05-22  Android               2      5\n",
       "2 2022-11-22      iOS               2     11\n",
       "3 2022-11-26  Android              10     11\n",
       "4 2023-04-26      iOS               1      4\n",
       "5 2022-12-04  Android              10     12\n",
       "6 2023-08-14      iOS               9      8\n",
       "7 2023-03-23  Android               8      3\n",
       "8 2023-03-05      iOS              10      3\n",
       "9 2023-08-22  Android               5      8"
      ]
     },
     "execution_count": 47,
     "metadata": {},
     "output_type": "execute_result"
    }
   ],
   "source": [
    "dffb.head(10)"
   ]
  },
  {
   "cell_type": "code",
   "execution_count": 48,
   "id": "955f9782-bb81-4725-993b-70af23225efe",
   "metadata": {},
   "outputs": [
    {
     "data": {
      "text/plain": [
       "(500, 4)"
      ]
     },
     "execution_count": 48,
     "metadata": {},
     "output_type": "execute_result"
    }
   ],
   "source": [
    "dffb.shape"
   ]
  },
  {
   "cell_type": "code",
   "execution_count": 49,
   "id": "31a5e0b7-de85-48be-aab4-7807165078cf",
   "metadata": {},
   "outputs": [
    {
     "name": "stdout",
     "output_type": "stream",
     "text": [
      "<class 'pandas.core.frame.DataFrame'>\n",
      "RangeIndex: 500 entries, 0 to 499\n",
      "Data columns (total 4 columns):\n",
      " #   Column          Non-Null Count  Dtype         \n",
      "---  ------          --------------  -----         \n",
      " 0   date            500 non-null    datetime64[ns]\n",
      " 1   product         500 non-null    object        \n",
      " 2   feedback_score  500 non-null    int64         \n",
      " 3   month           500 non-null    int32         \n",
      "dtypes: datetime64[ns](1), int32(1), int64(1), object(1)\n",
      "memory usage: 13.8+ KB\n"
     ]
    }
   ],
   "source": [
    "dffb.info()"
   ]
  },
  {
   "cell_type": "code",
   "execution_count": 50,
   "id": "3ff88018-a9e6-422c-a8e2-9c368555a044",
   "metadata": {},
   "outputs": [
    {
     "name": "stderr",
     "output_type": "stream",
     "text": [
      "/var/folders/wh/8qjdz4h56bb3smy6brz1xr6c0000gn/T/ipykernel_51180/4000069923.py:3: FutureWarning: A value is trying to be set on a copy of a DataFrame or Series through chained assignment using an inplace method.\n",
      "The behavior will change in pandas 3.0. This inplace method will never work because the intermediate object on which we are setting values always behaves as a copy.\n",
      "\n",
      "For example, when doing 'df[col].method(value, inplace=True)', try using 'df.method({col: value}, inplace=True)' or df[col] = df[col].method(value) instead, to perform the operation inplace on the original object.\n",
      "\n",
      "\n",
      "  dffb[\"month\"].replace(\n"
     ]
    }
   ],
   "source": [
    "# Renaming all the month entries from numbers to their names so that it will be easier to \n",
    "# interperate the analysis.\n",
    "dffb[\"month\"].replace(\n",
    "    {1:\"January\", 2:\"February\", 3:\"March\", 4:\"February\",\n",
    "     5:\"May\", 6:\"June\", 7:\"July\", 8:\"August\", 9:\"September\",\n",
    "     10:\"October\", 11:\"November\", 12:\"December\"}, inplace = True)"
   ]
  },
  {
   "cell_type": "code",
   "execution_count": 51,
   "id": "f4055bfa-1dad-4f38-b484-691b6a277a81",
   "metadata": {},
   "outputs": [
    {
     "data": {
      "text/html": [
       "<div>\n",
       "<style scoped>\n",
       "    .dataframe tbody tr th:only-of-type {\n",
       "        vertical-align: middle;\n",
       "    }\n",
       "\n",
       "    .dataframe tbody tr th {\n",
       "        vertical-align: top;\n",
       "    }\n",
       "\n",
       "    .dataframe thead th {\n",
       "        text-align: right;\n",
       "    }\n",
       "</style>\n",
       "<table border=\"1\" class=\"dataframe\">\n",
       "  <thead>\n",
       "    <tr style=\"text-align: right;\">\n",
       "      <th></th>\n",
       "      <th>date</th>\n",
       "      <th>product</th>\n",
       "      <th>feedback_score</th>\n",
       "      <th>month</th>\n",
       "    </tr>\n",
       "  </thead>\n",
       "  <tbody>\n",
       "    <tr>\n",
       "      <th>0</th>\n",
       "      <td>2023-02-22</td>\n",
       "      <td>iOS</td>\n",
       "      <td>5</td>\n",
       "      <td>February</td>\n",
       "    </tr>\n",
       "    <tr>\n",
       "      <th>1</th>\n",
       "      <td>2023-05-22</td>\n",
       "      <td>Android</td>\n",
       "      <td>2</td>\n",
       "      <td>May</td>\n",
       "    </tr>\n",
       "    <tr>\n",
       "      <th>2</th>\n",
       "      <td>2022-11-22</td>\n",
       "      <td>iOS</td>\n",
       "      <td>2</td>\n",
       "      <td>November</td>\n",
       "    </tr>\n",
       "    <tr>\n",
       "      <th>3</th>\n",
       "      <td>2022-11-26</td>\n",
       "      <td>Android</td>\n",
       "      <td>10</td>\n",
       "      <td>November</td>\n",
       "    </tr>\n",
       "    <tr>\n",
       "      <th>4</th>\n",
       "      <td>2023-04-26</td>\n",
       "      <td>iOS</td>\n",
       "      <td>1</td>\n",
       "      <td>February</td>\n",
       "    </tr>\n",
       "    <tr>\n",
       "      <th>5</th>\n",
       "      <td>2022-12-04</td>\n",
       "      <td>Android</td>\n",
       "      <td>10</td>\n",
       "      <td>December</td>\n",
       "    </tr>\n",
       "    <tr>\n",
       "      <th>6</th>\n",
       "      <td>2023-08-14</td>\n",
       "      <td>iOS</td>\n",
       "      <td>9</td>\n",
       "      <td>August</td>\n",
       "    </tr>\n",
       "    <tr>\n",
       "      <th>7</th>\n",
       "      <td>2023-03-23</td>\n",
       "      <td>Android</td>\n",
       "      <td>8</td>\n",
       "      <td>March</td>\n",
       "    </tr>\n",
       "    <tr>\n",
       "      <th>8</th>\n",
       "      <td>2023-03-05</td>\n",
       "      <td>iOS</td>\n",
       "      <td>10</td>\n",
       "      <td>March</td>\n",
       "    </tr>\n",
       "    <tr>\n",
       "      <th>9</th>\n",
       "      <td>2023-08-22</td>\n",
       "      <td>Android</td>\n",
       "      <td>5</td>\n",
       "      <td>August</td>\n",
       "    </tr>\n",
       "    <tr>\n",
       "      <th>10</th>\n",
       "      <td>2022-12-11</td>\n",
       "      <td>iOS</td>\n",
       "      <td>1</td>\n",
       "      <td>December</td>\n",
       "    </tr>\n",
       "    <tr>\n",
       "      <th>11</th>\n",
       "      <td>2023-10-22</td>\n",
       "      <td>Android</td>\n",
       "      <td>1</td>\n",
       "      <td>October</td>\n",
       "    </tr>\n",
       "    <tr>\n",
       "      <th>12</th>\n",
       "      <td>2023-04-19</td>\n",
       "      <td>iOS</td>\n",
       "      <td>8</td>\n",
       "      <td>February</td>\n",
       "    </tr>\n",
       "    <tr>\n",
       "      <th>13</th>\n",
       "      <td>2023-08-12</td>\n",
       "      <td>Android</td>\n",
       "      <td>1</td>\n",
       "      <td>August</td>\n",
       "    </tr>\n",
       "    <tr>\n",
       "      <th>14</th>\n",
       "      <td>2023-04-04</td>\n",
       "      <td>iOS</td>\n",
       "      <td>10</td>\n",
       "      <td>February</td>\n",
       "    </tr>\n",
       "    <tr>\n",
       "      <th>15</th>\n",
       "      <td>2023-10-10</td>\n",
       "      <td>Android</td>\n",
       "      <td>6</td>\n",
       "      <td>October</td>\n",
       "    </tr>\n",
       "    <tr>\n",
       "      <th>16</th>\n",
       "      <td>2023-06-06</td>\n",
       "      <td>iOS</td>\n",
       "      <td>9</td>\n",
       "      <td>June</td>\n",
       "    </tr>\n",
       "    <tr>\n",
       "      <th>17</th>\n",
       "      <td>2023-04-17</td>\n",
       "      <td>Android</td>\n",
       "      <td>9</td>\n",
       "      <td>February</td>\n",
       "    </tr>\n",
       "    <tr>\n",
       "      <th>18</th>\n",
       "      <td>2023-04-25</td>\n",
       "      <td>iOS</td>\n",
       "      <td>10</td>\n",
       "      <td>February</td>\n",
       "    </tr>\n",
       "    <tr>\n",
       "      <th>19</th>\n",
       "      <td>2023-07-13</td>\n",
       "      <td>Android</td>\n",
       "      <td>6</td>\n",
       "      <td>July</td>\n",
       "    </tr>\n",
       "  </tbody>\n",
       "</table>\n",
       "</div>"
      ],
      "text/plain": [
       "         date  product  feedback_score     month\n",
       "0  2023-02-22      iOS               5  February\n",
       "1  2023-05-22  Android               2       May\n",
       "2  2022-11-22      iOS               2  November\n",
       "3  2022-11-26  Android              10  November\n",
       "4  2023-04-26      iOS               1  February\n",
       "5  2022-12-04  Android              10  December\n",
       "6  2023-08-14      iOS               9    August\n",
       "7  2023-03-23  Android               8     March\n",
       "8  2023-03-05      iOS              10     March\n",
       "9  2023-08-22  Android               5    August\n",
       "10 2022-12-11      iOS               1  December\n",
       "11 2023-10-22  Android               1   October\n",
       "12 2023-04-19      iOS               8  February\n",
       "13 2023-08-12  Android               1    August\n",
       "14 2023-04-04      iOS              10  February\n",
       "15 2023-10-10  Android               6   October\n",
       "16 2023-06-06      iOS               9      June\n",
       "17 2023-04-17  Android               9  February\n",
       "18 2023-04-25      iOS              10  February\n",
       "19 2023-07-13  Android               6      July"
      ]
     },
     "execution_count": 51,
     "metadata": {},
     "output_type": "execute_result"
    }
   ],
   "source": [
    "dffb.head(20)"
   ]
  },
  {
   "cell_type": "code",
   "execution_count": 52,
   "id": "ebedb998-800a-4ed9-b42e-fe22c92794ca",
   "metadata": {},
   "outputs": [
    {
     "data": {
      "text/html": [
       "<div>\n",
       "<style scoped>\n",
       "    .dataframe tbody tr th:only-of-type {\n",
       "        vertical-align: middle;\n",
       "    }\n",
       "\n",
       "    .dataframe tbody tr th {\n",
       "        vertical-align: top;\n",
       "    }\n",
       "\n",
       "    .dataframe thead th {\n",
       "        text-align: right;\n",
       "    }\n",
       "</style>\n",
       "<table border=\"1\" class=\"dataframe\">\n",
       "  <thead>\n",
       "    <tr style=\"text-align: right;\">\n",
       "      <th></th>\n",
       "      <th>date</th>\n",
       "      <th>product</th>\n",
       "      <th>feedback_score</th>\n",
       "      <th>month</th>\n",
       "    </tr>\n",
       "  </thead>\n",
       "  <tbody>\n",
       "    <tr>\n",
       "      <th>480</th>\n",
       "      <td>2023-06-13</td>\n",
       "      <td>iOS</td>\n",
       "      <td>2</td>\n",
       "      <td>June</td>\n",
       "    </tr>\n",
       "    <tr>\n",
       "      <th>481</th>\n",
       "      <td>2023-05-09</td>\n",
       "      <td>Android</td>\n",
       "      <td>7</td>\n",
       "      <td>May</td>\n",
       "    </tr>\n",
       "    <tr>\n",
       "      <th>482</th>\n",
       "      <td>2023-06-21</td>\n",
       "      <td>iOS</td>\n",
       "      <td>2</td>\n",
       "      <td>June</td>\n",
       "    </tr>\n",
       "    <tr>\n",
       "      <th>483</th>\n",
       "      <td>2023-08-03</td>\n",
       "      <td>Android</td>\n",
       "      <td>1</td>\n",
       "      <td>August</td>\n",
       "    </tr>\n",
       "    <tr>\n",
       "      <th>484</th>\n",
       "      <td>2022-12-17</td>\n",
       "      <td>iOS</td>\n",
       "      <td>2</td>\n",
       "      <td>December</td>\n",
       "    </tr>\n",
       "    <tr>\n",
       "      <th>485</th>\n",
       "      <td>2023-04-19</td>\n",
       "      <td>Android</td>\n",
       "      <td>9</td>\n",
       "      <td>February</td>\n",
       "    </tr>\n",
       "    <tr>\n",
       "      <th>486</th>\n",
       "      <td>2023-01-04</td>\n",
       "      <td>iOS</td>\n",
       "      <td>7</td>\n",
       "      <td>January</td>\n",
       "    </tr>\n",
       "    <tr>\n",
       "      <th>487</th>\n",
       "      <td>2023-08-03</td>\n",
       "      <td>Android</td>\n",
       "      <td>2</td>\n",
       "      <td>August</td>\n",
       "    </tr>\n",
       "    <tr>\n",
       "      <th>488</th>\n",
       "      <td>2023-08-02</td>\n",
       "      <td>iOS</td>\n",
       "      <td>9</td>\n",
       "      <td>August</td>\n",
       "    </tr>\n",
       "    <tr>\n",
       "      <th>489</th>\n",
       "      <td>2022-12-01</td>\n",
       "      <td>Android</td>\n",
       "      <td>5</td>\n",
       "      <td>December</td>\n",
       "    </tr>\n",
       "    <tr>\n",
       "      <th>490</th>\n",
       "      <td>2023-11-11</td>\n",
       "      <td>iOS</td>\n",
       "      <td>3</td>\n",
       "      <td>November</td>\n",
       "    </tr>\n",
       "    <tr>\n",
       "      <th>491</th>\n",
       "      <td>2023-09-29</td>\n",
       "      <td>Android</td>\n",
       "      <td>1</td>\n",
       "      <td>September</td>\n",
       "    </tr>\n",
       "    <tr>\n",
       "      <th>492</th>\n",
       "      <td>2023-07-06</td>\n",
       "      <td>iOS</td>\n",
       "      <td>10</td>\n",
       "      <td>July</td>\n",
       "    </tr>\n",
       "    <tr>\n",
       "      <th>493</th>\n",
       "      <td>2023-06-06</td>\n",
       "      <td>Android</td>\n",
       "      <td>5</td>\n",
       "      <td>June</td>\n",
       "    </tr>\n",
       "    <tr>\n",
       "      <th>494</th>\n",
       "      <td>2023-08-11</td>\n",
       "      <td>iOS</td>\n",
       "      <td>6</td>\n",
       "      <td>August</td>\n",
       "    </tr>\n",
       "    <tr>\n",
       "      <th>495</th>\n",
       "      <td>2023-03-18</td>\n",
       "      <td>Android</td>\n",
       "      <td>5</td>\n",
       "      <td>March</td>\n",
       "    </tr>\n",
       "    <tr>\n",
       "      <th>496</th>\n",
       "      <td>2023-02-05</td>\n",
       "      <td>iOS</td>\n",
       "      <td>7</td>\n",
       "      <td>February</td>\n",
       "    </tr>\n",
       "    <tr>\n",
       "      <th>497</th>\n",
       "      <td>2023-03-29</td>\n",
       "      <td>Android</td>\n",
       "      <td>5</td>\n",
       "      <td>March</td>\n",
       "    </tr>\n",
       "    <tr>\n",
       "      <th>498</th>\n",
       "      <td>2023-02-08</td>\n",
       "      <td>iOS</td>\n",
       "      <td>3</td>\n",
       "      <td>February</td>\n",
       "    </tr>\n",
       "    <tr>\n",
       "      <th>499</th>\n",
       "      <td>2022-11-28</td>\n",
       "      <td>Android</td>\n",
       "      <td>9</td>\n",
       "      <td>November</td>\n",
       "    </tr>\n",
       "  </tbody>\n",
       "</table>\n",
       "</div>"
      ],
      "text/plain": [
       "          date  product  feedback_score      month\n",
       "480 2023-06-13      iOS               2       June\n",
       "481 2023-05-09  Android               7        May\n",
       "482 2023-06-21      iOS               2       June\n",
       "483 2023-08-03  Android               1     August\n",
       "484 2022-12-17      iOS               2   December\n",
       "485 2023-04-19  Android               9   February\n",
       "486 2023-01-04      iOS               7    January\n",
       "487 2023-08-03  Android               2     August\n",
       "488 2023-08-02      iOS               9     August\n",
       "489 2022-12-01  Android               5   December\n",
       "490 2023-11-11      iOS               3   November\n",
       "491 2023-09-29  Android               1  September\n",
       "492 2023-07-06      iOS              10       July\n",
       "493 2023-06-06  Android               5       June\n",
       "494 2023-08-11      iOS               6     August\n",
       "495 2023-03-18  Android               5      March\n",
       "496 2023-02-05      iOS               7   February\n",
       "497 2023-03-29  Android               5      March\n",
       "498 2023-02-08      iOS               3   February\n",
       "499 2022-11-28  Android               9   November"
      ]
     },
     "execution_count": 52,
     "metadata": {},
     "output_type": "execute_result"
    }
   ],
   "source": [
    "dffb.tail(20)"
   ]
  },
  {
   "cell_type": "code",
   "execution_count": 53,
   "id": "ad0739a1-afc4-4985-9ccc-0bb4ce1ecf5d",
   "metadata": {},
   "outputs": [
    {
     "data": {
      "text/plain": [
       "(500, 4)"
      ]
     },
     "execution_count": 53,
     "metadata": {},
     "output_type": "execute_result"
    }
   ],
   "source": [
    "dffb.shape"
   ]
  },
  {
   "cell_type": "code",
   "execution_count": 54,
   "id": "3c8e1046-c377-4af9-97a0-b7522610a1a5",
   "metadata": {},
   "outputs": [],
   "source": [
    "# Creating a dataframe with only the desired months to compare against each other. \n",
    "rdffb = st.f_oneway(\n",
    "    dffb[\"feedback_score\"][dffb[\"month\"] == \"January\"], \n",
    "    dffb[\"feedback_score\"][dffb[\"month\"] == \"May\"],\n",
    "    dffb[\"feedback_score\"][dffb[\"month\"] == \"September\"],\n",
    "    dffb[\"feedback_score\"][dffb[\"month\"] == \"December\"]\n",
    ")"
   ]
  },
  {
   "cell_type": "code",
   "execution_count": 55,
   "id": "44e2c5e5-ab41-49bf-af71-f7eb1c9c1cf7",
   "metadata": {},
   "outputs": [
    {
     "name": "stdout",
     "output_type": "stream",
     "text": [
      "ANOVA Results:  F_onewayResult(statistic=np.float64(0.3146823675455494), pvalue=np.float64(0.8147473590881886))\n"
     ]
    }
   ],
   "source": [
    "print(\"ANOVA Results: \", rdffb)"
   ]
  },
  {
   "cell_type": "code",
   "execution_count": 56,
   "id": "aa72d5e8-3346-4664-a030-675c2374272f",
   "metadata": {},
   "outputs": [],
   "source": [
    "# For the posthoc analysis, it will read all months, so to get it to only compare the months\n",
    "# that we want, we will create a separate dataframe that excludes all entries from undesired \n",
    "# months.\n",
    "important_months = [\"January\", \"May\", \"September\", \"December\"]"
   ]
  },
  {
   "cell_type": "code",
   "execution_count": 57,
   "id": "c96906e9-32bb-4c26-be60-6e8063b18ec6",
   "metadata": {},
   "outputs": [],
   "source": [
    "dffb_filtered = dffb[dffb[\"month\"].isin(important_months)]"
   ]
  },
  {
   "cell_type": "code",
   "execution_count": 58,
   "id": "4c8076f6-3957-4612-8e02-8a2769c55517",
   "metadata": {},
   "outputs": [
    {
     "data": {
      "text/plain": [
       "(157, 4)"
      ]
     },
     "execution_count": 58,
     "metadata": {},
     "output_type": "execute_result"
    }
   ],
   "source": [
    "dffb_filtered.shape"
   ]
  },
  {
   "cell_type": "code",
   "execution_count": 59,
   "id": "73b9ef02-08a8-480c-b4b1-6d9c6372824e",
   "metadata": {},
   "outputs": [],
   "source": [
    "mc = multi(dffb_filtered[\"feedback_score\"], dffb_filtered[\"month\"])\n",
    "posthoc = mc.tukeyhsd()"
   ]
  },
  {
   "cell_type": "code",
   "execution_count": 60,
   "id": "362cc69a-c4ee-4516-a0b6-3a499bd89b0b",
   "metadata": {},
   "outputs": [
    {
     "name": "stdout",
     "output_type": "stream",
     "text": [
      "  Multiple Comparison of Means - Tukey HSD, FWER=0.05   \n",
      "========================================================\n",
      " group1    group2  meandiff p-adj   lower  upper  reject\n",
      "--------------------------------------------------------\n",
      "December   January   0.2081  0.991 -1.6253 2.0416  False\n",
      "December       May  -0.1019 0.9989 -1.8952 1.6915  False\n",
      "December September  -0.4239 0.9152 -2.1165 1.2687  False\n",
      " January       May    -0.31 0.9726 -2.1664 1.5464  False\n",
      " January September   -0.632 0.7871 -2.3913 1.1273  False\n",
      "     May September   -0.322 0.9619 -2.0394 1.3954  False\n",
      "--------------------------------------------------------\n"
     ]
    }
   ],
   "source": [
    "print(posthoc)"
   ]
  },
  {
   "cell_type": "markdown",
   "id": "33aac634-bccf-40c3-92cc-a7bb8c3a6fb8",
   "metadata": {},
   "source": [
    "All the months we are looking at both between each other and in general have a p-value of greater than .05 so we fail to reget the null hypothesis. This signifies that from our data there doesn't appear to be any difference in how people score their products in January, May, September, and December. People don't appear to have greater or less appreciation for their product depending on the time of year they buy it, at least for the months we checked. This helps to justify my assumption that reviews are relatively stable for each app."
   ]
  },
  {
   "cell_type": "markdown",
   "id": "fcaaa853-5ba0-43e7-9b22-a689a096ee5c",
   "metadata": {},
   "source": [
    "Part 6:"
   ]
  },
  {
   "cell_type": "code",
   "execution_count": 61,
   "id": "bff2f4b7-b357-4d78-9c47-88ab56679be1",
   "metadata": {},
   "outputs": [],
   "source": [
    "# Removing the month column to return the dataframes to how they were previously.\n",
    "dffb=dffb.drop(\"month\", axis=1)\n"
   ]
  },
  {
   "cell_type": "code",
   "execution_count": 62,
   "id": "d95736f3-b9bf-4bab-8b5e-6cd306aed830",
   "metadata": {},
   "outputs": [
    {
     "data": {
      "text/html": [
       "<div>\n",
       "<style scoped>\n",
       "    .dataframe tbody tr th:only-of-type {\n",
       "        vertical-align: middle;\n",
       "    }\n",
       "\n",
       "    .dataframe tbody tr th {\n",
       "        vertical-align: top;\n",
       "    }\n",
       "\n",
       "    .dataframe thead th {\n",
       "        text-align: right;\n",
       "    }\n",
       "</style>\n",
       "<table border=\"1\" class=\"dataframe\">\n",
       "  <thead>\n",
       "    <tr style=\"text-align: right;\">\n",
       "      <th></th>\n",
       "      <th>date</th>\n",
       "      <th>product</th>\n",
       "      <th>feedback_score</th>\n",
       "    </tr>\n",
       "  </thead>\n",
       "  <tbody>\n",
       "    <tr>\n",
       "      <th>0</th>\n",
       "      <td>2023-02-22</td>\n",
       "      <td>iOS</td>\n",
       "      <td>5</td>\n",
       "    </tr>\n",
       "    <tr>\n",
       "      <th>1</th>\n",
       "      <td>2023-05-22</td>\n",
       "      <td>Android</td>\n",
       "      <td>2</td>\n",
       "    </tr>\n",
       "    <tr>\n",
       "      <th>2</th>\n",
       "      <td>2022-11-22</td>\n",
       "      <td>iOS</td>\n",
       "      <td>2</td>\n",
       "    </tr>\n",
       "    <tr>\n",
       "      <th>3</th>\n",
       "      <td>2022-11-26</td>\n",
       "      <td>Android</td>\n",
       "      <td>10</td>\n",
       "    </tr>\n",
       "    <tr>\n",
       "      <th>4</th>\n",
       "      <td>2023-04-26</td>\n",
       "      <td>iOS</td>\n",
       "      <td>1</td>\n",
       "    </tr>\n",
       "    <tr>\n",
       "      <th>5</th>\n",
       "      <td>2022-12-04</td>\n",
       "      <td>Android</td>\n",
       "      <td>10</td>\n",
       "    </tr>\n",
       "    <tr>\n",
       "      <th>6</th>\n",
       "      <td>2023-08-14</td>\n",
       "      <td>iOS</td>\n",
       "      <td>9</td>\n",
       "    </tr>\n",
       "    <tr>\n",
       "      <th>7</th>\n",
       "      <td>2023-03-23</td>\n",
       "      <td>Android</td>\n",
       "      <td>8</td>\n",
       "    </tr>\n",
       "    <tr>\n",
       "      <th>8</th>\n",
       "      <td>2023-03-05</td>\n",
       "      <td>iOS</td>\n",
       "      <td>10</td>\n",
       "    </tr>\n",
       "    <tr>\n",
       "      <th>9</th>\n",
       "      <td>2023-08-22</td>\n",
       "      <td>Android</td>\n",
       "      <td>5</td>\n",
       "    </tr>\n",
       "    <tr>\n",
       "      <th>10</th>\n",
       "      <td>2022-12-11</td>\n",
       "      <td>iOS</td>\n",
       "      <td>1</td>\n",
       "    </tr>\n",
       "    <tr>\n",
       "      <th>11</th>\n",
       "      <td>2023-10-22</td>\n",
       "      <td>Android</td>\n",
       "      <td>1</td>\n",
       "    </tr>\n",
       "    <tr>\n",
       "      <th>12</th>\n",
       "      <td>2023-04-19</td>\n",
       "      <td>iOS</td>\n",
       "      <td>8</td>\n",
       "    </tr>\n",
       "    <tr>\n",
       "      <th>13</th>\n",
       "      <td>2023-08-12</td>\n",
       "      <td>Android</td>\n",
       "      <td>1</td>\n",
       "    </tr>\n",
       "    <tr>\n",
       "      <th>14</th>\n",
       "      <td>2023-04-04</td>\n",
       "      <td>iOS</td>\n",
       "      <td>10</td>\n",
       "    </tr>\n",
       "    <tr>\n",
       "      <th>15</th>\n",
       "      <td>2023-10-10</td>\n",
       "      <td>Android</td>\n",
       "      <td>6</td>\n",
       "    </tr>\n",
       "    <tr>\n",
       "      <th>16</th>\n",
       "      <td>2023-06-06</td>\n",
       "      <td>iOS</td>\n",
       "      <td>9</td>\n",
       "    </tr>\n",
       "    <tr>\n",
       "      <th>17</th>\n",
       "      <td>2023-04-17</td>\n",
       "      <td>Android</td>\n",
       "      <td>9</td>\n",
       "    </tr>\n",
       "    <tr>\n",
       "      <th>18</th>\n",
       "      <td>2023-04-25</td>\n",
       "      <td>iOS</td>\n",
       "      <td>10</td>\n",
       "    </tr>\n",
       "    <tr>\n",
       "      <th>19</th>\n",
       "      <td>2023-07-13</td>\n",
       "      <td>Android</td>\n",
       "      <td>6</td>\n",
       "    </tr>\n",
       "  </tbody>\n",
       "</table>\n",
       "</div>"
      ],
      "text/plain": [
       "         date  product  feedback_score\n",
       "0  2023-02-22      iOS               5\n",
       "1  2023-05-22  Android               2\n",
       "2  2022-11-22      iOS               2\n",
       "3  2022-11-26  Android              10\n",
       "4  2023-04-26      iOS               1\n",
       "5  2022-12-04  Android              10\n",
       "6  2023-08-14      iOS               9\n",
       "7  2023-03-23  Android               8\n",
       "8  2023-03-05      iOS              10\n",
       "9  2023-08-22  Android               5\n",
       "10 2022-12-11      iOS               1\n",
       "11 2023-10-22  Android               1\n",
       "12 2023-04-19      iOS               8\n",
       "13 2023-08-12  Android               1\n",
       "14 2023-04-04      iOS              10\n",
       "15 2023-10-10  Android               6\n",
       "16 2023-06-06      iOS               9\n",
       "17 2023-04-17  Android               9\n",
       "18 2023-04-25      iOS              10\n",
       "19 2023-07-13  Android               6"
      ]
     },
     "execution_count": 62,
     "metadata": {},
     "output_type": "execute_result"
    }
   ],
   "source": [
    "dffb.head(20)"
   ]
  },
  {
   "cell_type": "code",
   "execution_count": 63,
   "id": "2746421c-8644-4e50-af15-acffdb0da531",
   "metadata": {},
   "outputs": [
    {
     "data": {
      "text/plain": [
       "(500, 3)"
      ]
     },
     "execution_count": 63,
     "metadata": {},
     "output_type": "execute_result"
    }
   ],
   "source": [
    "dffb.shape"
   ]
  },
  {
   "cell_type": "code",
   "execution_count": 64,
   "id": "50477d5d-14cf-432d-b558-553654679f09",
   "metadata": {},
   "outputs": [],
   "source": [
    "dfs=dfs.drop(\"month\", axis=1)"
   ]
  },
  {
   "cell_type": "code",
   "execution_count": 65,
   "id": "9cd05617-8b18-4558-b98f-c783988d1b52",
   "metadata": {},
   "outputs": [
    {
     "data": {
      "text/plain": [
       "(500, 3)"
      ]
     },
     "execution_count": 65,
     "metadata": {},
     "output_type": "execute_result"
    }
   ],
   "source": [
    "dfs.shape"
   ]
  },
  {
   "cell_type": "code",
   "execution_count": 66,
   "id": "de002b37-d60f-49a2-b28f-c55152318f7c",
   "metadata": {},
   "outputs": [
    {
     "data": {
      "text/html": [
       "<div>\n",
       "<style scoped>\n",
       "    .dataframe tbody tr th:only-of-type {\n",
       "        vertical-align: middle;\n",
       "    }\n",
       "\n",
       "    .dataframe tbody tr th {\n",
       "        vertical-align: top;\n",
       "    }\n",
       "\n",
       "    .dataframe thead th {\n",
       "        text-align: right;\n",
       "    }\n",
       "</style>\n",
       "<table border=\"1\" class=\"dataframe\">\n",
       "  <thead>\n",
       "    <tr style=\"text-align: right;\">\n",
       "      <th></th>\n",
       "      <th>date</th>\n",
       "      <th>product</th>\n",
       "      <th>sales</th>\n",
       "    </tr>\n",
       "  </thead>\n",
       "  <tbody>\n",
       "    <tr>\n",
       "      <th>0</th>\n",
       "      <td>2022-12-12</td>\n",
       "      <td>iOS</td>\n",
       "      <td>473</td>\n",
       "    </tr>\n",
       "    <tr>\n",
       "      <th>1</th>\n",
       "      <td>2022-12-12</td>\n",
       "      <td>Android</td>\n",
       "      <td>919</td>\n",
       "    </tr>\n",
       "    <tr>\n",
       "      <th>2</th>\n",
       "      <td>2023-06-24</td>\n",
       "      <td>iOS</td>\n",
       "      <td>805</td>\n",
       "    </tr>\n",
       "    <tr>\n",
       "      <th>3</th>\n",
       "      <td>2023-06-24</td>\n",
       "      <td>Android</td>\n",
       "      <td>996</td>\n",
       "    </tr>\n",
       "    <tr>\n",
       "      <th>4</th>\n",
       "      <td>2023-10-20</td>\n",
       "      <td>iOS</td>\n",
       "      <td>792</td>\n",
       "    </tr>\n",
       "    <tr>\n",
       "      <th>5</th>\n",
       "      <td>2023-10-20</td>\n",
       "      <td>Android</td>\n",
       "      <td>971</td>\n",
       "    </tr>\n",
       "    <tr>\n",
       "      <th>6</th>\n",
       "      <td>2023-02-24</td>\n",
       "      <td>iOS</td>\n",
       "      <td>985</td>\n",
       "    </tr>\n",
       "    <tr>\n",
       "      <th>7</th>\n",
       "      <td>2023-02-24</td>\n",
       "      <td>Android</td>\n",
       "      <td>329</td>\n",
       "    </tr>\n",
       "    <tr>\n",
       "      <th>8</th>\n",
       "      <td>2022-11-20</td>\n",
       "      <td>iOS</td>\n",
       "      <td>878</td>\n",
       "    </tr>\n",
       "    <tr>\n",
       "      <th>9</th>\n",
       "      <td>2022-11-20</td>\n",
       "      <td>Android</td>\n",
       "      <td>582</td>\n",
       "    </tr>\n",
       "    <tr>\n",
       "      <th>10</th>\n",
       "      <td>2023-10-31</td>\n",
       "      <td>iOS</td>\n",
       "      <td>506</td>\n",
       "    </tr>\n",
       "    <tr>\n",
       "      <th>11</th>\n",
       "      <td>2023-10-31</td>\n",
       "      <td>Android</td>\n",
       "      <td>464</td>\n",
       "    </tr>\n",
       "    <tr>\n",
       "      <th>12</th>\n",
       "      <td>2023-10-03</td>\n",
       "      <td>iOS</td>\n",
       "      <td>989</td>\n",
       "    </tr>\n",
       "    <tr>\n",
       "      <th>13</th>\n",
       "      <td>2023-10-03</td>\n",
       "      <td>Android</td>\n",
       "      <td>807</td>\n",
       "    </tr>\n",
       "    <tr>\n",
       "      <th>14</th>\n",
       "      <td>2023-02-22</td>\n",
       "      <td>iOS</td>\n",
       "      <td>449</td>\n",
       "    </tr>\n",
       "    <tr>\n",
       "      <th>15</th>\n",
       "      <td>2023-02-22</td>\n",
       "      <td>Android</td>\n",
       "      <td>416</td>\n",
       "    </tr>\n",
       "    <tr>\n",
       "      <th>16</th>\n",
       "      <td>2023-01-11</td>\n",
       "      <td>iOS</td>\n",
       "      <td>952</td>\n",
       "    </tr>\n",
       "    <tr>\n",
       "      <th>17</th>\n",
       "      <td>2023-01-11</td>\n",
       "      <td>Android</td>\n",
       "      <td>133</td>\n",
       "    </tr>\n",
       "    <tr>\n",
       "      <th>18</th>\n",
       "      <td>2023-02-14</td>\n",
       "      <td>iOS</td>\n",
       "      <td>844</td>\n",
       "    </tr>\n",
       "    <tr>\n",
       "      <th>19</th>\n",
       "      <td>2023-02-14</td>\n",
       "      <td>Android</td>\n",
       "      <td>704</td>\n",
       "    </tr>\n",
       "  </tbody>\n",
       "</table>\n",
       "</div>"
      ],
      "text/plain": [
       "         date  product  sales\n",
       "0  2022-12-12      iOS    473\n",
       "1  2022-12-12  Android    919\n",
       "2  2023-06-24      iOS    805\n",
       "3  2023-06-24  Android    996\n",
       "4  2023-10-20      iOS    792\n",
       "5  2023-10-20  Android    971\n",
       "6  2023-02-24      iOS    985\n",
       "7  2023-02-24  Android    329\n",
       "8  2022-11-20      iOS    878\n",
       "9  2022-11-20  Android    582\n",
       "10 2023-10-31      iOS    506\n",
       "11 2023-10-31  Android    464\n",
       "12 2023-10-03      iOS    989\n",
       "13 2023-10-03  Android    807\n",
       "14 2023-02-22      iOS    449\n",
       "15 2023-02-22  Android    416\n",
       "16 2023-01-11      iOS    952\n",
       "17 2023-01-11  Android    133\n",
       "18 2023-02-14      iOS    844\n",
       "19 2023-02-14  Android    704"
      ]
     },
     "execution_count": 66,
     "metadata": {},
     "output_type": "execute_result"
    }
   ],
   "source": [
    "dfs.head(20)"
   ]
  },
  {
   "cell_type": "code",
   "execution_count": null,
   "id": "9dac47c5-9acd-4dff-9e51-9dcaef0d9e42",
   "metadata": {},
   "outputs": [],
   "source": []
  },
  {
   "cell_type": "code",
   "execution_count": 67,
   "id": "959bc8c8-391a-49ea-b7bb-dc0111765a6a",
   "metadata": {},
   "outputs": [],
   "source": [
    "# Since I am assuming that the apps line up across csv files, I will merge the datafiles\n",
    "# only on the basis of their index location and not on any other columns like date or product.\n",
    "df_merged = pd.merge(dffb, dfs, left_index=True, right_index=True, suffixes=('_feedback', '_sales'))"
   ]
  },
  {
   "cell_type": "code",
   "execution_count": 68,
   "id": "2ea8b311-3d0c-44c2-b2ea-f4cd92a55300",
   "metadata": {},
   "outputs": [
    {
     "data": {
      "text/html": [
       "<div>\n",
       "<style scoped>\n",
       "    .dataframe tbody tr th:only-of-type {\n",
       "        vertical-align: middle;\n",
       "    }\n",
       "\n",
       "    .dataframe tbody tr th {\n",
       "        vertical-align: top;\n",
       "    }\n",
       "\n",
       "    .dataframe thead th {\n",
       "        text-align: right;\n",
       "    }\n",
       "</style>\n",
       "<table border=\"1\" class=\"dataframe\">\n",
       "  <thead>\n",
       "    <tr style=\"text-align: right;\">\n",
       "      <th></th>\n",
       "      <th>date_feedback</th>\n",
       "      <th>product_feedback</th>\n",
       "      <th>feedback_score</th>\n",
       "      <th>date_sales</th>\n",
       "      <th>product_sales</th>\n",
       "      <th>sales</th>\n",
       "    </tr>\n",
       "  </thead>\n",
       "  <tbody>\n",
       "    <tr>\n",
       "      <th>0</th>\n",
       "      <td>2023-02-22</td>\n",
       "      <td>iOS</td>\n",
       "      <td>5</td>\n",
       "      <td>2022-12-12</td>\n",
       "      <td>iOS</td>\n",
       "      <td>473</td>\n",
       "    </tr>\n",
       "    <tr>\n",
       "      <th>1</th>\n",
       "      <td>2023-05-22</td>\n",
       "      <td>Android</td>\n",
       "      <td>2</td>\n",
       "      <td>2022-12-12</td>\n",
       "      <td>Android</td>\n",
       "      <td>919</td>\n",
       "    </tr>\n",
       "    <tr>\n",
       "      <th>2</th>\n",
       "      <td>2022-11-22</td>\n",
       "      <td>iOS</td>\n",
       "      <td>2</td>\n",
       "      <td>2023-06-24</td>\n",
       "      <td>iOS</td>\n",
       "      <td>805</td>\n",
       "    </tr>\n",
       "    <tr>\n",
       "      <th>3</th>\n",
       "      <td>2022-11-26</td>\n",
       "      <td>Android</td>\n",
       "      <td>10</td>\n",
       "      <td>2023-06-24</td>\n",
       "      <td>Android</td>\n",
       "      <td>996</td>\n",
       "    </tr>\n",
       "    <tr>\n",
       "      <th>4</th>\n",
       "      <td>2023-04-26</td>\n",
       "      <td>iOS</td>\n",
       "      <td>1</td>\n",
       "      <td>2023-10-20</td>\n",
       "      <td>iOS</td>\n",
       "      <td>792</td>\n",
       "    </tr>\n",
       "    <tr>\n",
       "      <th>5</th>\n",
       "      <td>2022-12-04</td>\n",
       "      <td>Android</td>\n",
       "      <td>10</td>\n",
       "      <td>2023-10-20</td>\n",
       "      <td>Android</td>\n",
       "      <td>971</td>\n",
       "    </tr>\n",
       "    <tr>\n",
       "      <th>6</th>\n",
       "      <td>2023-08-14</td>\n",
       "      <td>iOS</td>\n",
       "      <td>9</td>\n",
       "      <td>2023-02-24</td>\n",
       "      <td>iOS</td>\n",
       "      <td>985</td>\n",
       "    </tr>\n",
       "    <tr>\n",
       "      <th>7</th>\n",
       "      <td>2023-03-23</td>\n",
       "      <td>Android</td>\n",
       "      <td>8</td>\n",
       "      <td>2023-02-24</td>\n",
       "      <td>Android</td>\n",
       "      <td>329</td>\n",
       "    </tr>\n",
       "    <tr>\n",
       "      <th>8</th>\n",
       "      <td>2023-03-05</td>\n",
       "      <td>iOS</td>\n",
       "      <td>10</td>\n",
       "      <td>2022-11-20</td>\n",
       "      <td>iOS</td>\n",
       "      <td>878</td>\n",
       "    </tr>\n",
       "    <tr>\n",
       "      <th>9</th>\n",
       "      <td>2023-08-22</td>\n",
       "      <td>Android</td>\n",
       "      <td>5</td>\n",
       "      <td>2022-11-20</td>\n",
       "      <td>Android</td>\n",
       "      <td>582</td>\n",
       "    </tr>\n",
       "    <tr>\n",
       "      <th>10</th>\n",
       "      <td>2022-12-11</td>\n",
       "      <td>iOS</td>\n",
       "      <td>1</td>\n",
       "      <td>2023-10-31</td>\n",
       "      <td>iOS</td>\n",
       "      <td>506</td>\n",
       "    </tr>\n",
       "    <tr>\n",
       "      <th>11</th>\n",
       "      <td>2023-10-22</td>\n",
       "      <td>Android</td>\n",
       "      <td>1</td>\n",
       "      <td>2023-10-31</td>\n",
       "      <td>Android</td>\n",
       "      <td>464</td>\n",
       "    </tr>\n",
       "    <tr>\n",
       "      <th>12</th>\n",
       "      <td>2023-04-19</td>\n",
       "      <td>iOS</td>\n",
       "      <td>8</td>\n",
       "      <td>2023-10-03</td>\n",
       "      <td>iOS</td>\n",
       "      <td>989</td>\n",
       "    </tr>\n",
       "    <tr>\n",
       "      <th>13</th>\n",
       "      <td>2023-08-12</td>\n",
       "      <td>Android</td>\n",
       "      <td>1</td>\n",
       "      <td>2023-10-03</td>\n",
       "      <td>Android</td>\n",
       "      <td>807</td>\n",
       "    </tr>\n",
       "    <tr>\n",
       "      <th>14</th>\n",
       "      <td>2023-04-04</td>\n",
       "      <td>iOS</td>\n",
       "      <td>10</td>\n",
       "      <td>2023-02-22</td>\n",
       "      <td>iOS</td>\n",
       "      <td>449</td>\n",
       "    </tr>\n",
       "    <tr>\n",
       "      <th>15</th>\n",
       "      <td>2023-10-10</td>\n",
       "      <td>Android</td>\n",
       "      <td>6</td>\n",
       "      <td>2023-02-22</td>\n",
       "      <td>Android</td>\n",
       "      <td>416</td>\n",
       "    </tr>\n",
       "    <tr>\n",
       "      <th>16</th>\n",
       "      <td>2023-06-06</td>\n",
       "      <td>iOS</td>\n",
       "      <td>9</td>\n",
       "      <td>2023-01-11</td>\n",
       "      <td>iOS</td>\n",
       "      <td>952</td>\n",
       "    </tr>\n",
       "    <tr>\n",
       "      <th>17</th>\n",
       "      <td>2023-04-17</td>\n",
       "      <td>Android</td>\n",
       "      <td>9</td>\n",
       "      <td>2023-01-11</td>\n",
       "      <td>Android</td>\n",
       "      <td>133</td>\n",
       "    </tr>\n",
       "    <tr>\n",
       "      <th>18</th>\n",
       "      <td>2023-04-25</td>\n",
       "      <td>iOS</td>\n",
       "      <td>10</td>\n",
       "      <td>2023-02-14</td>\n",
       "      <td>iOS</td>\n",
       "      <td>844</td>\n",
       "    </tr>\n",
       "    <tr>\n",
       "      <th>19</th>\n",
       "      <td>2023-07-13</td>\n",
       "      <td>Android</td>\n",
       "      <td>6</td>\n",
       "      <td>2023-02-14</td>\n",
       "      <td>Android</td>\n",
       "      <td>704</td>\n",
       "    </tr>\n",
       "  </tbody>\n",
       "</table>\n",
       "</div>"
      ],
      "text/plain": [
       "   date_feedback product_feedback  feedback_score date_sales product_sales  \\\n",
       "0     2023-02-22              iOS               5 2022-12-12           iOS   \n",
       "1     2023-05-22          Android               2 2022-12-12       Android   \n",
       "2     2022-11-22              iOS               2 2023-06-24           iOS   \n",
       "3     2022-11-26          Android              10 2023-06-24       Android   \n",
       "4     2023-04-26              iOS               1 2023-10-20           iOS   \n",
       "5     2022-12-04          Android              10 2023-10-20       Android   \n",
       "6     2023-08-14              iOS               9 2023-02-24           iOS   \n",
       "7     2023-03-23          Android               8 2023-02-24       Android   \n",
       "8     2023-03-05              iOS              10 2022-11-20           iOS   \n",
       "9     2023-08-22          Android               5 2022-11-20       Android   \n",
       "10    2022-12-11              iOS               1 2023-10-31           iOS   \n",
       "11    2023-10-22          Android               1 2023-10-31       Android   \n",
       "12    2023-04-19              iOS               8 2023-10-03           iOS   \n",
       "13    2023-08-12          Android               1 2023-10-03       Android   \n",
       "14    2023-04-04              iOS              10 2023-02-22           iOS   \n",
       "15    2023-10-10          Android               6 2023-02-22       Android   \n",
       "16    2023-06-06              iOS               9 2023-01-11           iOS   \n",
       "17    2023-04-17          Android               9 2023-01-11       Android   \n",
       "18    2023-04-25              iOS              10 2023-02-14           iOS   \n",
       "19    2023-07-13          Android               6 2023-02-14       Android   \n",
       "\n",
       "    sales  \n",
       "0     473  \n",
       "1     919  \n",
       "2     805  \n",
       "3     996  \n",
       "4     792  \n",
       "5     971  \n",
       "6     985  \n",
       "7     329  \n",
       "8     878  \n",
       "9     582  \n",
       "10    506  \n",
       "11    464  \n",
       "12    989  \n",
       "13    807  \n",
       "14    449  \n",
       "15    416  \n",
       "16    952  \n",
       "17    133  \n",
       "18    844  \n",
       "19    704  "
      ]
     },
     "execution_count": 68,
     "metadata": {},
     "output_type": "execute_result"
    }
   ],
   "source": [
    "df_merged.head(20)"
   ]
  },
  {
   "cell_type": "code",
   "execution_count": 69,
   "id": "87ee8669-8460-4b9c-83d1-cbf21810c716",
   "metadata": {},
   "outputs": [
    {
     "data": {
      "text/plain": [
       "(500, 6)"
      ]
     },
     "execution_count": 69,
     "metadata": {},
     "output_type": "execute_result"
    }
   ],
   "source": [
    "df_merged.shape"
   ]
  },
  {
   "cell_type": "code",
   "execution_count": 70,
   "id": "cc211331-24e8-4053-963a-0e4c6373888a",
   "metadata": {},
   "outputs": [],
   "source": [
    "# Double checking that all products line up across both csv files. We will remove any rows where the products\n",
    "# don't line up. Since there should be none of these then we should see an identical shape to the one taken just \n",
    "# above. \n",
    "df_merged = df_merged[df_merged['product_feedback'] == df_merged['product_sales']]"
   ]
  },
  {
   "cell_type": "code",
   "execution_count": 71,
   "id": "0dd6a96b-1317-43a7-b4a3-10ce995f5c5a",
   "metadata": {},
   "outputs": [
    {
     "data": {
      "text/html": [
       "<div>\n",
       "<style scoped>\n",
       "    .dataframe tbody tr th:only-of-type {\n",
       "        vertical-align: middle;\n",
       "    }\n",
       "\n",
       "    .dataframe tbody tr th {\n",
       "        vertical-align: top;\n",
       "    }\n",
       "\n",
       "    .dataframe thead th {\n",
       "        text-align: right;\n",
       "    }\n",
       "</style>\n",
       "<table border=\"1\" class=\"dataframe\">\n",
       "  <thead>\n",
       "    <tr style=\"text-align: right;\">\n",
       "      <th></th>\n",
       "      <th>date_feedback</th>\n",
       "      <th>product_feedback</th>\n",
       "      <th>feedback_score</th>\n",
       "      <th>date_sales</th>\n",
       "      <th>product_sales</th>\n",
       "      <th>sales</th>\n",
       "    </tr>\n",
       "  </thead>\n",
       "  <tbody>\n",
       "    <tr>\n",
       "      <th>0</th>\n",
       "      <td>2023-02-22</td>\n",
       "      <td>iOS</td>\n",
       "      <td>5</td>\n",
       "      <td>2022-12-12</td>\n",
       "      <td>iOS</td>\n",
       "      <td>473</td>\n",
       "    </tr>\n",
       "    <tr>\n",
       "      <th>1</th>\n",
       "      <td>2023-05-22</td>\n",
       "      <td>Android</td>\n",
       "      <td>2</td>\n",
       "      <td>2022-12-12</td>\n",
       "      <td>Android</td>\n",
       "      <td>919</td>\n",
       "    </tr>\n",
       "    <tr>\n",
       "      <th>2</th>\n",
       "      <td>2022-11-22</td>\n",
       "      <td>iOS</td>\n",
       "      <td>2</td>\n",
       "      <td>2023-06-24</td>\n",
       "      <td>iOS</td>\n",
       "      <td>805</td>\n",
       "    </tr>\n",
       "    <tr>\n",
       "      <th>3</th>\n",
       "      <td>2022-11-26</td>\n",
       "      <td>Android</td>\n",
       "      <td>10</td>\n",
       "      <td>2023-06-24</td>\n",
       "      <td>Android</td>\n",
       "      <td>996</td>\n",
       "    </tr>\n",
       "    <tr>\n",
       "      <th>4</th>\n",
       "      <td>2023-04-26</td>\n",
       "      <td>iOS</td>\n",
       "      <td>1</td>\n",
       "      <td>2023-10-20</td>\n",
       "      <td>iOS</td>\n",
       "      <td>792</td>\n",
       "    </tr>\n",
       "    <tr>\n",
       "      <th>5</th>\n",
       "      <td>2022-12-04</td>\n",
       "      <td>Android</td>\n",
       "      <td>10</td>\n",
       "      <td>2023-10-20</td>\n",
       "      <td>Android</td>\n",
       "      <td>971</td>\n",
       "    </tr>\n",
       "    <tr>\n",
       "      <th>6</th>\n",
       "      <td>2023-08-14</td>\n",
       "      <td>iOS</td>\n",
       "      <td>9</td>\n",
       "      <td>2023-02-24</td>\n",
       "      <td>iOS</td>\n",
       "      <td>985</td>\n",
       "    </tr>\n",
       "    <tr>\n",
       "      <th>7</th>\n",
       "      <td>2023-03-23</td>\n",
       "      <td>Android</td>\n",
       "      <td>8</td>\n",
       "      <td>2023-02-24</td>\n",
       "      <td>Android</td>\n",
       "      <td>329</td>\n",
       "    </tr>\n",
       "    <tr>\n",
       "      <th>8</th>\n",
       "      <td>2023-03-05</td>\n",
       "      <td>iOS</td>\n",
       "      <td>10</td>\n",
       "      <td>2022-11-20</td>\n",
       "      <td>iOS</td>\n",
       "      <td>878</td>\n",
       "    </tr>\n",
       "    <tr>\n",
       "      <th>9</th>\n",
       "      <td>2023-08-22</td>\n",
       "      <td>Android</td>\n",
       "      <td>5</td>\n",
       "      <td>2022-11-20</td>\n",
       "      <td>Android</td>\n",
       "      <td>582</td>\n",
       "    </tr>\n",
       "    <tr>\n",
       "      <th>10</th>\n",
       "      <td>2022-12-11</td>\n",
       "      <td>iOS</td>\n",
       "      <td>1</td>\n",
       "      <td>2023-10-31</td>\n",
       "      <td>iOS</td>\n",
       "      <td>506</td>\n",
       "    </tr>\n",
       "    <tr>\n",
       "      <th>11</th>\n",
       "      <td>2023-10-22</td>\n",
       "      <td>Android</td>\n",
       "      <td>1</td>\n",
       "      <td>2023-10-31</td>\n",
       "      <td>Android</td>\n",
       "      <td>464</td>\n",
       "    </tr>\n",
       "    <tr>\n",
       "      <th>12</th>\n",
       "      <td>2023-04-19</td>\n",
       "      <td>iOS</td>\n",
       "      <td>8</td>\n",
       "      <td>2023-10-03</td>\n",
       "      <td>iOS</td>\n",
       "      <td>989</td>\n",
       "    </tr>\n",
       "    <tr>\n",
       "      <th>13</th>\n",
       "      <td>2023-08-12</td>\n",
       "      <td>Android</td>\n",
       "      <td>1</td>\n",
       "      <td>2023-10-03</td>\n",
       "      <td>Android</td>\n",
       "      <td>807</td>\n",
       "    </tr>\n",
       "    <tr>\n",
       "      <th>14</th>\n",
       "      <td>2023-04-04</td>\n",
       "      <td>iOS</td>\n",
       "      <td>10</td>\n",
       "      <td>2023-02-22</td>\n",
       "      <td>iOS</td>\n",
       "      <td>449</td>\n",
       "    </tr>\n",
       "    <tr>\n",
       "      <th>15</th>\n",
       "      <td>2023-10-10</td>\n",
       "      <td>Android</td>\n",
       "      <td>6</td>\n",
       "      <td>2023-02-22</td>\n",
       "      <td>Android</td>\n",
       "      <td>416</td>\n",
       "    </tr>\n",
       "    <tr>\n",
       "      <th>16</th>\n",
       "      <td>2023-06-06</td>\n",
       "      <td>iOS</td>\n",
       "      <td>9</td>\n",
       "      <td>2023-01-11</td>\n",
       "      <td>iOS</td>\n",
       "      <td>952</td>\n",
       "    </tr>\n",
       "    <tr>\n",
       "      <th>17</th>\n",
       "      <td>2023-04-17</td>\n",
       "      <td>Android</td>\n",
       "      <td>9</td>\n",
       "      <td>2023-01-11</td>\n",
       "      <td>Android</td>\n",
       "      <td>133</td>\n",
       "    </tr>\n",
       "    <tr>\n",
       "      <th>18</th>\n",
       "      <td>2023-04-25</td>\n",
       "      <td>iOS</td>\n",
       "      <td>10</td>\n",
       "      <td>2023-02-14</td>\n",
       "      <td>iOS</td>\n",
       "      <td>844</td>\n",
       "    </tr>\n",
       "    <tr>\n",
       "      <th>19</th>\n",
       "      <td>2023-07-13</td>\n",
       "      <td>Android</td>\n",
       "      <td>6</td>\n",
       "      <td>2023-02-14</td>\n",
       "      <td>Android</td>\n",
       "      <td>704</td>\n",
       "    </tr>\n",
       "  </tbody>\n",
       "</table>\n",
       "</div>"
      ],
      "text/plain": [
       "   date_feedback product_feedback  feedback_score date_sales product_sales  \\\n",
       "0     2023-02-22              iOS               5 2022-12-12           iOS   \n",
       "1     2023-05-22          Android               2 2022-12-12       Android   \n",
       "2     2022-11-22              iOS               2 2023-06-24           iOS   \n",
       "3     2022-11-26          Android              10 2023-06-24       Android   \n",
       "4     2023-04-26              iOS               1 2023-10-20           iOS   \n",
       "5     2022-12-04          Android              10 2023-10-20       Android   \n",
       "6     2023-08-14              iOS               9 2023-02-24           iOS   \n",
       "7     2023-03-23          Android               8 2023-02-24       Android   \n",
       "8     2023-03-05              iOS              10 2022-11-20           iOS   \n",
       "9     2023-08-22          Android               5 2022-11-20       Android   \n",
       "10    2022-12-11              iOS               1 2023-10-31           iOS   \n",
       "11    2023-10-22          Android               1 2023-10-31       Android   \n",
       "12    2023-04-19              iOS               8 2023-10-03           iOS   \n",
       "13    2023-08-12          Android               1 2023-10-03       Android   \n",
       "14    2023-04-04              iOS              10 2023-02-22           iOS   \n",
       "15    2023-10-10          Android               6 2023-02-22       Android   \n",
       "16    2023-06-06              iOS               9 2023-01-11           iOS   \n",
       "17    2023-04-17          Android               9 2023-01-11       Android   \n",
       "18    2023-04-25              iOS              10 2023-02-14           iOS   \n",
       "19    2023-07-13          Android               6 2023-02-14       Android   \n",
       "\n",
       "    sales  \n",
       "0     473  \n",
       "1     919  \n",
       "2     805  \n",
       "3     996  \n",
       "4     792  \n",
       "5     971  \n",
       "6     985  \n",
       "7     329  \n",
       "8     878  \n",
       "9     582  \n",
       "10    506  \n",
       "11    464  \n",
       "12    989  \n",
       "13    807  \n",
       "14    449  \n",
       "15    416  \n",
       "16    952  \n",
       "17    133  \n",
       "18    844  \n",
       "19    704  "
      ]
     },
     "execution_count": 71,
     "metadata": {},
     "output_type": "execute_result"
    }
   ],
   "source": [
    "df_merged.head(20)"
   ]
  },
  {
   "cell_type": "code",
   "execution_count": 72,
   "id": "3853d494-f935-4d91-b4a9-58bc8c1fb889",
   "metadata": {},
   "outputs": [
    {
     "data": {
      "text/plain": [
       "(500, 6)"
      ]
     },
     "execution_count": 72,
     "metadata": {},
     "output_type": "execute_result"
    }
   ],
   "source": [
    "df_merged.shape"
   ]
  },
  {
   "cell_type": "code",
   "execution_count": 73,
   "id": "777f3847-478e-42b3-919e-9c101e7b4359",
   "metadata": {},
   "outputs": [],
   "source": [
    "# Now we will drop one of the product columns it is redundant, and rename the other back to just \"product.\"\n",
    "df_merged=df_merged.drop(\"product_sales\", axis=1)\n",
    "df_merged.rename(columns={\"product_feedback\": \"product\"}, inplace=True)"
   ]
  },
  {
   "cell_type": "code",
   "execution_count": 74,
   "id": "8c0c236c-8d98-4fd8-8694-d01b67a659e9",
   "metadata": {},
   "outputs": [
    {
     "data": {
      "text/html": [
       "<div>\n",
       "<style scoped>\n",
       "    .dataframe tbody tr th:only-of-type {\n",
       "        vertical-align: middle;\n",
       "    }\n",
       "\n",
       "    .dataframe tbody tr th {\n",
       "        vertical-align: top;\n",
       "    }\n",
       "\n",
       "    .dataframe thead th {\n",
       "        text-align: right;\n",
       "    }\n",
       "</style>\n",
       "<table border=\"1\" class=\"dataframe\">\n",
       "  <thead>\n",
       "    <tr style=\"text-align: right;\">\n",
       "      <th></th>\n",
       "      <th>date_feedback</th>\n",
       "      <th>product</th>\n",
       "      <th>feedback_score</th>\n",
       "      <th>date_sales</th>\n",
       "      <th>sales</th>\n",
       "    </tr>\n",
       "  </thead>\n",
       "  <tbody>\n",
       "    <tr>\n",
       "      <th>0</th>\n",
       "      <td>2023-02-22</td>\n",
       "      <td>iOS</td>\n",
       "      <td>5</td>\n",
       "      <td>2022-12-12</td>\n",
       "      <td>473</td>\n",
       "    </tr>\n",
       "    <tr>\n",
       "      <th>1</th>\n",
       "      <td>2023-05-22</td>\n",
       "      <td>Android</td>\n",
       "      <td>2</td>\n",
       "      <td>2022-12-12</td>\n",
       "      <td>919</td>\n",
       "    </tr>\n",
       "    <tr>\n",
       "      <th>2</th>\n",
       "      <td>2022-11-22</td>\n",
       "      <td>iOS</td>\n",
       "      <td>2</td>\n",
       "      <td>2023-06-24</td>\n",
       "      <td>805</td>\n",
       "    </tr>\n",
       "    <tr>\n",
       "      <th>3</th>\n",
       "      <td>2022-11-26</td>\n",
       "      <td>Android</td>\n",
       "      <td>10</td>\n",
       "      <td>2023-06-24</td>\n",
       "      <td>996</td>\n",
       "    </tr>\n",
       "    <tr>\n",
       "      <th>4</th>\n",
       "      <td>2023-04-26</td>\n",
       "      <td>iOS</td>\n",
       "      <td>1</td>\n",
       "      <td>2023-10-20</td>\n",
       "      <td>792</td>\n",
       "    </tr>\n",
       "    <tr>\n",
       "      <th>5</th>\n",
       "      <td>2022-12-04</td>\n",
       "      <td>Android</td>\n",
       "      <td>10</td>\n",
       "      <td>2023-10-20</td>\n",
       "      <td>971</td>\n",
       "    </tr>\n",
       "    <tr>\n",
       "      <th>6</th>\n",
       "      <td>2023-08-14</td>\n",
       "      <td>iOS</td>\n",
       "      <td>9</td>\n",
       "      <td>2023-02-24</td>\n",
       "      <td>985</td>\n",
       "    </tr>\n",
       "    <tr>\n",
       "      <th>7</th>\n",
       "      <td>2023-03-23</td>\n",
       "      <td>Android</td>\n",
       "      <td>8</td>\n",
       "      <td>2023-02-24</td>\n",
       "      <td>329</td>\n",
       "    </tr>\n",
       "    <tr>\n",
       "      <th>8</th>\n",
       "      <td>2023-03-05</td>\n",
       "      <td>iOS</td>\n",
       "      <td>10</td>\n",
       "      <td>2022-11-20</td>\n",
       "      <td>878</td>\n",
       "    </tr>\n",
       "    <tr>\n",
       "      <th>9</th>\n",
       "      <td>2023-08-22</td>\n",
       "      <td>Android</td>\n",
       "      <td>5</td>\n",
       "      <td>2022-11-20</td>\n",
       "      <td>582</td>\n",
       "    </tr>\n",
       "    <tr>\n",
       "      <th>10</th>\n",
       "      <td>2022-12-11</td>\n",
       "      <td>iOS</td>\n",
       "      <td>1</td>\n",
       "      <td>2023-10-31</td>\n",
       "      <td>506</td>\n",
       "    </tr>\n",
       "    <tr>\n",
       "      <th>11</th>\n",
       "      <td>2023-10-22</td>\n",
       "      <td>Android</td>\n",
       "      <td>1</td>\n",
       "      <td>2023-10-31</td>\n",
       "      <td>464</td>\n",
       "    </tr>\n",
       "    <tr>\n",
       "      <th>12</th>\n",
       "      <td>2023-04-19</td>\n",
       "      <td>iOS</td>\n",
       "      <td>8</td>\n",
       "      <td>2023-10-03</td>\n",
       "      <td>989</td>\n",
       "    </tr>\n",
       "    <tr>\n",
       "      <th>13</th>\n",
       "      <td>2023-08-12</td>\n",
       "      <td>Android</td>\n",
       "      <td>1</td>\n",
       "      <td>2023-10-03</td>\n",
       "      <td>807</td>\n",
       "    </tr>\n",
       "    <tr>\n",
       "      <th>14</th>\n",
       "      <td>2023-04-04</td>\n",
       "      <td>iOS</td>\n",
       "      <td>10</td>\n",
       "      <td>2023-02-22</td>\n",
       "      <td>449</td>\n",
       "    </tr>\n",
       "    <tr>\n",
       "      <th>15</th>\n",
       "      <td>2023-10-10</td>\n",
       "      <td>Android</td>\n",
       "      <td>6</td>\n",
       "      <td>2023-02-22</td>\n",
       "      <td>416</td>\n",
       "    </tr>\n",
       "    <tr>\n",
       "      <th>16</th>\n",
       "      <td>2023-06-06</td>\n",
       "      <td>iOS</td>\n",
       "      <td>9</td>\n",
       "      <td>2023-01-11</td>\n",
       "      <td>952</td>\n",
       "    </tr>\n",
       "    <tr>\n",
       "      <th>17</th>\n",
       "      <td>2023-04-17</td>\n",
       "      <td>Android</td>\n",
       "      <td>9</td>\n",
       "      <td>2023-01-11</td>\n",
       "      <td>133</td>\n",
       "    </tr>\n",
       "    <tr>\n",
       "      <th>18</th>\n",
       "      <td>2023-04-25</td>\n",
       "      <td>iOS</td>\n",
       "      <td>10</td>\n",
       "      <td>2023-02-14</td>\n",
       "      <td>844</td>\n",
       "    </tr>\n",
       "    <tr>\n",
       "      <th>19</th>\n",
       "      <td>2023-07-13</td>\n",
       "      <td>Android</td>\n",
       "      <td>6</td>\n",
       "      <td>2023-02-14</td>\n",
       "      <td>704</td>\n",
       "    </tr>\n",
       "  </tbody>\n",
       "</table>\n",
       "</div>"
      ],
      "text/plain": [
       "   date_feedback  product  feedback_score date_sales  sales\n",
       "0     2023-02-22      iOS               5 2022-12-12    473\n",
       "1     2023-05-22  Android               2 2022-12-12    919\n",
       "2     2022-11-22      iOS               2 2023-06-24    805\n",
       "3     2022-11-26  Android              10 2023-06-24    996\n",
       "4     2023-04-26      iOS               1 2023-10-20    792\n",
       "5     2022-12-04  Android              10 2023-10-20    971\n",
       "6     2023-08-14      iOS               9 2023-02-24    985\n",
       "7     2023-03-23  Android               8 2023-02-24    329\n",
       "8     2023-03-05      iOS              10 2022-11-20    878\n",
       "9     2023-08-22  Android               5 2022-11-20    582\n",
       "10    2022-12-11      iOS               1 2023-10-31    506\n",
       "11    2023-10-22  Android               1 2023-10-31    464\n",
       "12    2023-04-19      iOS               8 2023-10-03    989\n",
       "13    2023-08-12  Android               1 2023-10-03    807\n",
       "14    2023-04-04      iOS              10 2023-02-22    449\n",
       "15    2023-10-10  Android               6 2023-02-22    416\n",
       "16    2023-06-06      iOS               9 2023-01-11    952\n",
       "17    2023-04-17  Android               9 2023-01-11    133\n",
       "18    2023-04-25      iOS              10 2023-02-14    844\n",
       "19    2023-07-13  Android               6 2023-02-14    704"
      ]
     },
     "execution_count": 74,
     "metadata": {},
     "output_type": "execute_result"
    }
   ],
   "source": [
    "df_merged.head(20)"
   ]
  },
  {
   "cell_type": "code",
   "execution_count": 75,
   "id": "95c5a2b5-776a-4b16-bf59-5ddd7bc53796",
   "metadata": {},
   "outputs": [
    {
     "data": {
      "text/plain": [
       "(500, 5)"
      ]
     },
     "execution_count": 75,
     "metadata": {},
     "output_type": "execute_result"
    }
   ],
   "source": [
    "df_merged.shape"
   ]
  },
  {
   "cell_type": "code",
   "execution_count": 76,
   "id": "1bc25a63-d0ae-4e76-8180-1f8dbef0e05f",
   "metadata": {},
   "outputs": [],
   "source": [
    "df_merged[\"score\"] = [\"high\" if score > 5 else \"low\" for score in df_merged[\"feedback_score\"]]"
   ]
  },
  {
   "cell_type": "code",
   "execution_count": 77,
   "id": "4bdffa2e-a036-4d28-bbdf-b3b615c327d4",
   "metadata": {},
   "outputs": [
    {
     "data": {
      "text/html": [
       "<div>\n",
       "<style scoped>\n",
       "    .dataframe tbody tr th:only-of-type {\n",
       "        vertical-align: middle;\n",
       "    }\n",
       "\n",
       "    .dataframe tbody tr th {\n",
       "        vertical-align: top;\n",
       "    }\n",
       "\n",
       "    .dataframe thead th {\n",
       "        text-align: right;\n",
       "    }\n",
       "</style>\n",
       "<table border=\"1\" class=\"dataframe\">\n",
       "  <thead>\n",
       "    <tr style=\"text-align: right;\">\n",
       "      <th></th>\n",
       "      <th>date_feedback</th>\n",
       "      <th>product</th>\n",
       "      <th>feedback_score</th>\n",
       "      <th>date_sales</th>\n",
       "      <th>sales</th>\n",
       "      <th>score</th>\n",
       "    </tr>\n",
       "  </thead>\n",
       "  <tbody>\n",
       "    <tr>\n",
       "      <th>0</th>\n",
       "      <td>2023-02-22</td>\n",
       "      <td>iOS</td>\n",
       "      <td>5</td>\n",
       "      <td>2022-12-12</td>\n",
       "      <td>473</td>\n",
       "      <td>low</td>\n",
       "    </tr>\n",
       "    <tr>\n",
       "      <th>1</th>\n",
       "      <td>2023-05-22</td>\n",
       "      <td>Android</td>\n",
       "      <td>2</td>\n",
       "      <td>2022-12-12</td>\n",
       "      <td>919</td>\n",
       "      <td>low</td>\n",
       "    </tr>\n",
       "    <tr>\n",
       "      <th>2</th>\n",
       "      <td>2022-11-22</td>\n",
       "      <td>iOS</td>\n",
       "      <td>2</td>\n",
       "      <td>2023-06-24</td>\n",
       "      <td>805</td>\n",
       "      <td>low</td>\n",
       "    </tr>\n",
       "    <tr>\n",
       "      <th>3</th>\n",
       "      <td>2022-11-26</td>\n",
       "      <td>Android</td>\n",
       "      <td>10</td>\n",
       "      <td>2023-06-24</td>\n",
       "      <td>996</td>\n",
       "      <td>high</td>\n",
       "    </tr>\n",
       "    <tr>\n",
       "      <th>4</th>\n",
       "      <td>2023-04-26</td>\n",
       "      <td>iOS</td>\n",
       "      <td>1</td>\n",
       "      <td>2023-10-20</td>\n",
       "      <td>792</td>\n",
       "      <td>low</td>\n",
       "    </tr>\n",
       "    <tr>\n",
       "      <th>5</th>\n",
       "      <td>2022-12-04</td>\n",
       "      <td>Android</td>\n",
       "      <td>10</td>\n",
       "      <td>2023-10-20</td>\n",
       "      <td>971</td>\n",
       "      <td>high</td>\n",
       "    </tr>\n",
       "    <tr>\n",
       "      <th>6</th>\n",
       "      <td>2023-08-14</td>\n",
       "      <td>iOS</td>\n",
       "      <td>9</td>\n",
       "      <td>2023-02-24</td>\n",
       "      <td>985</td>\n",
       "      <td>high</td>\n",
       "    </tr>\n",
       "    <tr>\n",
       "      <th>7</th>\n",
       "      <td>2023-03-23</td>\n",
       "      <td>Android</td>\n",
       "      <td>8</td>\n",
       "      <td>2023-02-24</td>\n",
       "      <td>329</td>\n",
       "      <td>high</td>\n",
       "    </tr>\n",
       "    <tr>\n",
       "      <th>8</th>\n",
       "      <td>2023-03-05</td>\n",
       "      <td>iOS</td>\n",
       "      <td>10</td>\n",
       "      <td>2022-11-20</td>\n",
       "      <td>878</td>\n",
       "      <td>high</td>\n",
       "    </tr>\n",
       "    <tr>\n",
       "      <th>9</th>\n",
       "      <td>2023-08-22</td>\n",
       "      <td>Android</td>\n",
       "      <td>5</td>\n",
       "      <td>2022-11-20</td>\n",
       "      <td>582</td>\n",
       "      <td>low</td>\n",
       "    </tr>\n",
       "    <tr>\n",
       "      <th>10</th>\n",
       "      <td>2022-12-11</td>\n",
       "      <td>iOS</td>\n",
       "      <td>1</td>\n",
       "      <td>2023-10-31</td>\n",
       "      <td>506</td>\n",
       "      <td>low</td>\n",
       "    </tr>\n",
       "    <tr>\n",
       "      <th>11</th>\n",
       "      <td>2023-10-22</td>\n",
       "      <td>Android</td>\n",
       "      <td>1</td>\n",
       "      <td>2023-10-31</td>\n",
       "      <td>464</td>\n",
       "      <td>low</td>\n",
       "    </tr>\n",
       "    <tr>\n",
       "      <th>12</th>\n",
       "      <td>2023-04-19</td>\n",
       "      <td>iOS</td>\n",
       "      <td>8</td>\n",
       "      <td>2023-10-03</td>\n",
       "      <td>989</td>\n",
       "      <td>high</td>\n",
       "    </tr>\n",
       "    <tr>\n",
       "      <th>13</th>\n",
       "      <td>2023-08-12</td>\n",
       "      <td>Android</td>\n",
       "      <td>1</td>\n",
       "      <td>2023-10-03</td>\n",
       "      <td>807</td>\n",
       "      <td>low</td>\n",
       "    </tr>\n",
       "    <tr>\n",
       "      <th>14</th>\n",
       "      <td>2023-04-04</td>\n",
       "      <td>iOS</td>\n",
       "      <td>10</td>\n",
       "      <td>2023-02-22</td>\n",
       "      <td>449</td>\n",
       "      <td>high</td>\n",
       "    </tr>\n",
       "    <tr>\n",
       "      <th>15</th>\n",
       "      <td>2023-10-10</td>\n",
       "      <td>Android</td>\n",
       "      <td>6</td>\n",
       "      <td>2023-02-22</td>\n",
       "      <td>416</td>\n",
       "      <td>high</td>\n",
       "    </tr>\n",
       "    <tr>\n",
       "      <th>16</th>\n",
       "      <td>2023-06-06</td>\n",
       "      <td>iOS</td>\n",
       "      <td>9</td>\n",
       "      <td>2023-01-11</td>\n",
       "      <td>952</td>\n",
       "      <td>high</td>\n",
       "    </tr>\n",
       "    <tr>\n",
       "      <th>17</th>\n",
       "      <td>2023-04-17</td>\n",
       "      <td>Android</td>\n",
       "      <td>9</td>\n",
       "      <td>2023-01-11</td>\n",
       "      <td>133</td>\n",
       "      <td>high</td>\n",
       "    </tr>\n",
       "    <tr>\n",
       "      <th>18</th>\n",
       "      <td>2023-04-25</td>\n",
       "      <td>iOS</td>\n",
       "      <td>10</td>\n",
       "      <td>2023-02-14</td>\n",
       "      <td>844</td>\n",
       "      <td>high</td>\n",
       "    </tr>\n",
       "    <tr>\n",
       "      <th>19</th>\n",
       "      <td>2023-07-13</td>\n",
       "      <td>Android</td>\n",
       "      <td>6</td>\n",
       "      <td>2023-02-14</td>\n",
       "      <td>704</td>\n",
       "      <td>high</td>\n",
       "    </tr>\n",
       "  </tbody>\n",
       "</table>\n",
       "</div>"
      ],
      "text/plain": [
       "   date_feedback  product  feedback_score date_sales  sales score\n",
       "0     2023-02-22      iOS               5 2022-12-12    473   low\n",
       "1     2023-05-22  Android               2 2022-12-12    919   low\n",
       "2     2022-11-22      iOS               2 2023-06-24    805   low\n",
       "3     2022-11-26  Android              10 2023-06-24    996  high\n",
       "4     2023-04-26      iOS               1 2023-10-20    792   low\n",
       "5     2022-12-04  Android              10 2023-10-20    971  high\n",
       "6     2023-08-14      iOS               9 2023-02-24    985  high\n",
       "7     2023-03-23  Android               8 2023-02-24    329  high\n",
       "8     2023-03-05      iOS              10 2022-11-20    878  high\n",
       "9     2023-08-22  Android               5 2022-11-20    582   low\n",
       "10    2022-12-11      iOS               1 2023-10-31    506   low\n",
       "11    2023-10-22  Android               1 2023-10-31    464   low\n",
       "12    2023-04-19      iOS               8 2023-10-03    989  high\n",
       "13    2023-08-12  Android               1 2023-10-03    807   low\n",
       "14    2023-04-04      iOS              10 2023-02-22    449  high\n",
       "15    2023-10-10  Android               6 2023-02-22    416  high\n",
       "16    2023-06-06      iOS               9 2023-01-11    952  high\n",
       "17    2023-04-17  Android               9 2023-01-11    133  high\n",
       "18    2023-04-25      iOS              10 2023-02-14    844  high\n",
       "19    2023-07-13  Android               6 2023-02-14    704  high"
      ]
     },
     "execution_count": 77,
     "metadata": {},
     "output_type": "execute_result"
    }
   ],
   "source": [
    "df_merged.head(20)"
   ]
  },
  {
   "cell_type": "code",
   "execution_count": 78,
   "id": "51d58f6a-1a62-4ef3-abf6-7cb179ab52ca",
   "metadata": {},
   "outputs": [
    {
     "data": {
      "text/plain": [
       "(500, 6)"
      ]
     },
     "execution_count": 78,
     "metadata": {},
     "output_type": "execute_result"
    }
   ],
   "source": [
    "df_merged.shape"
   ]
  },
  {
   "cell_type": "code",
   "execution_count": 79,
   "id": "c535ef98-b7d0-4872-9181-5b12ef0e755b",
   "metadata": {},
   "outputs": [],
   "source": [
    "# We will put the high rating sales into one array and the low rating into another\n",
    "high_rating=np.array(df_merged[\"sales\"][df_merged[\"score\"]==\"high\"])\n",
    "low_rating=np.array(df_merged[\"sales\"][df_merged[\"score\"]==\"low\"])"
   ]
  },
  {
   "cell_type": "code",
   "execution_count": 80,
   "id": "82e70e69-b989-4889-b365-88c5cfe8107f",
   "metadata": {},
   "outputs": [
    {
     "name": "stdout",
     "output_type": "stream",
     "text": [
      "[996 971 985 329 878 989 449 416 952 133 844 704 999 384 357 967 480 530\n",
      " 551 103 885 459 185 278 837 624 718 249 913 737 142 777 975 814 108 626\n",
      " 315 247 289 679 376 636 547 687 174 813 458 112 491 103 281 904 394 357\n",
      " 881 368 691 105 961 838 404 546 745 248 732 147 835 587 705 847 212 142\n",
      " 896 162 765 477 674 530 911 899 309 564 882 922 330 535 588 813 165 570\n",
      " 514 586 697 349 118 761 599 425 520 398 606 755 956 961 618 505 773 629\n",
      " 784 393 444 778 543 686 301 261 884 432 805 938 409 342 398 293 608 946\n",
      " 205 515 540 269 180 329 264 894 791 515 613 567 453 647 822 263 893 305\n",
      " 484 965 737 345 339 984 100 892 509 973 810 760 941 814 915 105 217 612\n",
      " 262 815 849 647 433 418 630 259 145 443 436 335 216 453 455 526 202 838\n",
      " 189 394 895 120 435 690 916 426 781 585 819 298 996 990 849 342 928 244\n",
      " 447 251 565 206 657 380 719 667 182 671 836 752 665 164 803 820 330 215\n",
      " 506 700 392 119 352 401 521 794 528 760 308 852 277 444 139 160 744 257\n",
      " 740 459 995 822 935 579 387 875 614 876 104 474 861 986 206 164 817 979\n",
      " 246 214 607 247 913]\n"
     ]
    }
   ],
   "source": [
    "print(high_rating)"
   ]
  },
  {
   "cell_type": "code",
   "execution_count": 81,
   "id": "82f04510-fc63-40af-ad7e-c082176eeeec",
   "metadata": {},
   "outputs": [
    {
     "data": {
      "text/plain": [
       "(257,)"
      ]
     },
     "execution_count": 81,
     "metadata": {},
     "output_type": "execute_result"
    }
   ],
   "source": [
    "high_rating.shape"
   ]
  },
  {
   "cell_type": "code",
   "execution_count": 82,
   "id": "f56e4934-1e00-471d-8e3e-4e362ed93711",
   "metadata": {},
   "outputs": [
    {
     "name": "stdout",
     "output_type": "stream",
     "text": [
      "[473 919 805 792 582 506 464 807 385 262 265 523 439 885 271 409 177 667\n",
      " 780 689 955 345 981 918 230 965 270 958 133 496 833 172 999 963 729 705\n",
      " 618 829 244 460 378 549 888 291 295 580 330 767 203 621 883 713 763 710\n",
      " 917 564 914 216 916 735 660 447 817 906 719 572 304 784 643 427 886 134\n",
      " 333 296 832 843 625 304 152 820 592 210 808 719 755 368 561 821 498 339\n",
      " 931 519 875 288 955 681 462 576 293 719 553 148 575 654 433 961 682 295\n",
      " 104 125 800 860 891 704 661 435 313 957 502 482 579 157 383 370 338 334\n",
      " 615 820 467 808 687 998 554 686 520 947 440 649 902 608 937 320 120 898\n",
      " 690 656 149 434 670 384 188 499 782 222 102 710 446 634 697 406 788 893\n",
      " 784 711 917 283 200 477 119 465 182 536 217 637 806 803 433 788 881 187\n",
      " 413 626 534 851 131 345 404 828 644 257 366 680 271 808 898 331 458 153\n",
      " 907 356 123 113 174 932 990 548 222 932 713 828 621 432 756 306 918 308\n",
      " 888 643 903 535 106 625 664 893 659 607 161 562 999 437 250 902 493 377\n",
      " 254 108 282 984 642 918 446 373 816]\n"
     ]
    }
   ],
   "source": [
    "print(low_rating)"
   ]
  },
  {
   "cell_type": "code",
   "execution_count": 83,
   "id": "4f6751d9-e674-44d7-b8c0-00bfa4c68e9e",
   "metadata": {},
   "outputs": [
    {
     "data": {
      "text/plain": [
       "(243,)"
      ]
     },
     "execution_count": 83,
     "metadata": {},
     "output_type": "execute_result"
    }
   ],
   "source": [
    "low_rating.shape"
   ]
  },
  {
   "cell_type": "markdown",
   "id": "2f34abf8-cb8d-46fa-a771-01ea63e29774",
   "metadata": {},
   "source": [
    "Testing the monthly sales for each app per store based on its rating will still be independent and unpaired as there is nothing connecting the high-rating sales' numbers and the low-rating sales' numbers. We are still just looking for a difference so it will again be two-tailed."
   ]
  },
  {
   "cell_type": "code",
   "execution_count": 84,
   "id": "dca89338-4936-4908-a149-bb406caf785d",
   "metadata": {},
   "outputs": [],
   "source": [
    "# Setting up our equal variation test.\n",
    "EqualVar = True\n",
    "if high_rating.std() > low_rating.std():\n",
    "    if (high_rating.std() / low_rating.std()) > 2:\n",
    "        EqualVar = False\n",
    "else:\n",
    "    if (low_rating.std() / high_rating.std()) > 2:\n",
    "        EqualVar = False"
   ]
  },
  {
   "cell_type": "code",
   "execution_count": 85,
   "id": "7ece2181-719d-48e9-955e-27b76f6cd244",
   "metadata": {},
   "outputs": [
    {
     "name": "stdout",
     "output_type": "stream",
     "text": [
      "TtestResult(statistic=np.float64(-0.42984433743953354), pvalue=np.float64(0.6674948065771038), df=np.float64(498.0))\n"
     ]
    }
   ],
   "source": [
    "# Performing test and printing results\n",
    "ratingsT = ttest_ind(high_rating, low_rating, equal_var=EqualVar)\n",
    "print (ratingsT)"
   ]
  },
  {
   "cell_type": "code",
   "execution_count": 86,
   "id": "713728c2-7f43-4cd2-a400-f12970031cd9",
   "metadata": {},
   "outputs": [],
   "source": [
    "# We will test the correlation with monthly sales and the numeric feedback_score.\n",
    "# To take correlation we will put the sales columns and the feedback_scores columns into two arrays\n",
    "sales_array=np.array(df_merged[\"sales\"])\n",
    "feedback_score_array=np.array(df_merged[\"feedback_score\"])"
   ]
  },
  {
   "cell_type": "code",
   "execution_count": 87,
   "id": "419051e2-3251-441a-8400-eddf0018d8fd",
   "metadata": {},
   "outputs": [
    {
     "name": "stdout",
     "output_type": "stream",
     "text": [
      "[473 919 805 996 792 971 985 329 878 582 506 464 989 807 449 416 952 133\n",
      " 844 704 999 384 357 385 262 265 967 480 530 551 523 103 885 459 185 439\n",
      " 885 278 271 837 624 718 249 913 409 177 737 667 780 689 142 777 955 975\n",
      " 345 814 108 981 626 918 315 247 230 965 270 289 958 133 679 496 833 376\n",
      " 636 547 687 172 999 963 729 705 618 829 244 460 378 549 888 174 813 458\n",
      " 291 295 580 330 112 767 491 203 103 621 281 904 394 357 881 368 691 105\n",
      " 883 961 713 763 838 404 710 917 564 546 914 216 916 745 735 248 732 147\n",
      " 660 447 835 817 587 705 847 212 142 896 162 765 906 719 572 304 784 477\n",
      " 643 674 530 427 886 911 899 309 564 882 922 330 535 134 333 588 813 296\n",
      " 165 832 843 625 570 304 514 152 586 697 349 820 592 210 808 118 761 719\n",
      " 755 599 425 368 561 821 498 520 339 398 606 931 519 755 956 961 875 618\n",
      " 505 773 288 955 629 681 462 576 784 393 444 778 543 293 686 301 719 553\n",
      " 148 575 261 654 884 433 432 961 682 295 805 104 125 800 938 409 342 860\n",
      " 891 704 661 435 398 293 313 608 946 957 502 482 205 515 540 579 157 269\n",
      " 180 329 383 264 370 338 334 615 894 820 791 515 613 567 467 453 808 647\n",
      " 687 998 822 263 893 554 305 686 484 965 737 520 345 339 984 100 947 892\n",
      " 440 649 902 509 973 608 937 320 810 760 941 120 898 814 915 690 656 149\n",
      " 434 105 217 670 384 612 262 815 849 647 433 188 418 499 630 782 259 145\n",
      " 222 102 443 710 446 436 335 634 216 453 455 697 526 406 202 788 838 893\n",
      " 189 784 394 711 917 895 283 120 435 200 477 690 916 119 426 781 465 585\n",
      " 819 298 182 996 990 849 342 536 928 217 244 637 447 251 806 803 565 433\n",
      " 206 657 380 788 719 667 182 881 187 671 836 413 752 665 164 626 803 534\n",
      " 851 131 345 404 820 828 330 644 215 506 700 257 366 680 392 119 352 401\n",
      " 271 521 794 808 528 898 760 308 331 852 277 444 139 458 153 160 744 907\n",
      " 356 257 123 113 740 174 932 990 548 459 222 932 713 828 621 995 432 822\n",
      " 756 935 306 918 308 888 579 387 875 614 643 876 903 535 104 106 474 625\n",
      " 664 861 893 659 986 607 161 562 999 437 250 206 902 164 493 377 254 817\n",
      " 979 108 246 282 984 642 214 918 607 446 247 373 816 913]\n"
     ]
    }
   ],
   "source": [
    "print(sales_array)"
   ]
  },
  {
   "cell_type": "code",
   "execution_count": 88,
   "id": "22de80fa-5328-4f70-b8f8-53aa00cc781e",
   "metadata": {},
   "outputs": [
    {
     "data": {
      "text/plain": [
       "(500,)"
      ]
     },
     "execution_count": 88,
     "metadata": {},
     "output_type": "execute_result"
    }
   ],
   "source": [
    "sales_array.shape"
   ]
  },
  {
   "cell_type": "code",
   "execution_count": 89,
   "id": "8f929f29-e3bb-497a-b49d-e9b48dea22b2",
   "metadata": {},
   "outputs": [
    {
     "name": "stdout",
     "output_type": "stream",
     "text": [
      "[ 5  2  2 10  1 10  9  8 10  5  1  1  8  1 10  6  9  9 10  6  7  6 10  5\n",
      "  1  3 10  7 10  9  4  8 10  8  7  5  2  9  1 10 10  6  8 10  2  4 10  4\n",
      "  2  1  8  8  2 10  3  6 10  4  8  1  7 10  4  3  3  8  5  4  7  1  5 10\n",
      " 10  9  8  5  5  4  3  2  1  1  3  4  4  5  5  8  6  9  3  4  3  2 10  2\n",
      "  6  4  6  2 10  8 10  9  7 10  9  8  1  8  2  2  7  8  4  4  4  7  2  1\n",
      "  3 10  4  6  6  8  1  1  9  3  7  8  6  6  7  7 10  9  2  4  2  5  1  9\n",
      "  2 10  6  2  5  9 10  8  6  9  6  9 10  1  3  6  6  2  7  2  4  4  6  4\n",
      "  6  5  9  7  9  5  2  1  1  7 10  3  3 10  9  3  3  2  1  7  4 10 10  1\n",
      "  1  9  9 10  1 10 10  8  2  2  7  2  4  4  8  8  6 10  9  1  9  8  2  1\n",
      "  1  3  6  2  8  4  9  1  2  3  8  2  1  2  7  8  6  4  2  4  4  3  8  7\n",
      "  5 10  9  3  5  3  9  8  7  2  3  8  9  8  4  8  2  2  3  1  9  4 10  7\n",
      "  8  7  4 10  5  6  3  4  7  6  6  2  8  1  6  6  9  1  7  8  8 10  2  7\n",
      "  4  4  3  8  6  5  4  2  9  8  9  5  5  9  6  5  3  3  5  8  8  4  1  8\n",
      "  7  7 10  6  9  2  7  2 10  4  8  7  3  1  6  1  3  9  7  5 10  8  7  2\n",
      "  9  1 10  4  8  1  8  3  8  2  1  9  3  7  7  3  2  6  9  1 10  8  3 10\n",
      "  6  6  2  7  7 10  7  1  8  1  7  1  9 10  5  1 10  2 10  7  7  5  7  6\n",
      "  7  3  1  6 10  4  6  8  8  4  6  5  3  1  1  2  9  5 10  5  6  8 10  2\n",
      "  1  2 10  8 10  8  2 10  8  4  8  4  8 10  4  9  7  7  8  4  5 10 10  1\n",
      "  1  6  4  1  7  1  3  5  5  9  4  5  4  4  5  7  1  7  3  6  1  4  3  5\n",
      "  9  7  6 10  5  7  3  1  9  1  9  2  2  6  3  2  6  1  1  4  3  4  4  6\n",
      "  2  7  2  1  2  9  7  2  9  5  3  1 10  5  6  5  7  5  3  9]\n"
     ]
    }
   ],
   "source": [
    "print(feedback_score_array)"
   ]
  },
  {
   "cell_type": "code",
   "execution_count": 90,
   "id": "e8163727-d412-443a-a2f4-79e03e4f2785",
   "metadata": {},
   "outputs": [
    {
     "data": {
      "text/plain": [
       "(500,)"
      ]
     },
     "execution_count": 90,
     "metadata": {},
     "output_type": "execute_result"
    }
   ],
   "source": [
    "feedback_score_array.shape"
   ]
  },
  {
   "cell_type": "code",
   "execution_count": 91,
   "id": "72eedc71-6c36-4b48-baca-d9014723e5b9",
   "metadata": {},
   "outputs": [
    {
     "data": {
      "text/plain": [
       "array([[1.        , 0.00814363],\n",
       "       [0.00814363, 1.        ]])"
      ]
     },
     "execution_count": 91,
     "metadata": {},
     "output_type": "execute_result"
    }
   ],
   "source": [
    "# Finding the correlation between the sales and the feedback scores\n",
    "np.corrcoef(sales_array, feedback_score_array)"
   ]
  },
  {
   "cell_type": "markdown",
   "id": "001361aa-02f9-48e4-a239-8e31eee90cb0",
   "metadata": {},
   "source": [
    "A high p-value of ~.6675 is supported by the low correlation of .0081. There appears to be next to no correlation between ratings and monthly sales in our data and our p-value makes us assume that having a rating higher than 5 does not make you any more likely to have higher monthly sales than having a rating of 5 or less. Our p-value does not meet the threshold of .05 and thus we have failed to reject the null hypothesis. As a reflection on the entire analysis we have done, we could not find any significant difference in our samples in any metrics. The only insight we have is that the p-value between the feedback scores of same apps on the iOS app store vs the Android app store was low enough that suggest that more research on the subject, hopefully with a study with a larger sample size, may be worthwhile. "
   ]
  }
 ],
 "metadata": {
  "kernelspec": {
   "display_name": "Python [conda env:base] *",
   "language": "python",
   "name": "conda-base-py"
  },
  "language_info": {
   "codemirror_mode": {
    "name": "ipython",
    "version": 3
   },
   "file_extension": ".py",
   "mimetype": "text/x-python",
   "name": "python",
   "nbconvert_exporter": "python",
   "pygments_lexer": "ipython3",
   "version": "3.13.5"
  }
 },
 "nbformat": 4,
 "nbformat_minor": 5
}
