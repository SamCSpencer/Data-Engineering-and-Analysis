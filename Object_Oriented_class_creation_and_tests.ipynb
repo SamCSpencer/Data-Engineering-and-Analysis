{
 "cells": [
  {
   "cell_type": "markdown",
   "id": "0148bfe2",
   "metadata": {},
   "source": [
    "## Student and Project Class Creation with Tests"
   ]
  },
  {
   "cell_type": "markdown",
   "id": "0d82b0f8",
   "metadata": {},
   "source": [
    "### Creating Base Class: Students"
   ]
  },
  {
   "cell_type": "code",
   "execution_count": 2,
   "id": "a314a986",
   "metadata": {},
   "outputs": [],
   "source": [
    "class Student:\n",
    "    # Initializing attributes for the object Student.\n",
    "    def __init__(self, student_id, major, university):\n",
    "        self.student_id = student_id\n",
    "        self.major = major\n",
    "        self.university = university\n",
    "\n"
   ]
  },
  {
   "cell_type": "markdown",
   "id": "7ee86523-5092-431c-8112-686e2c7cb6ba",
   "metadata": {},
   "source": [
    "###  Creating Inheritance Class: Project"
   ]
  },
  {
   "cell_type": "code",
   "execution_count": 4,
   "id": "db29140b-50a4-46c4-a77e-6aed00bb5068",
   "metadata": {},
   "outputs": [],
   "source": [
    "class Project(Student):\n",
    "    # creating the object student and all of its attributes. Some will\n",
    "    # require default values to survive tests.\n",
    "   # def __init__(\n",
    "    #    self, student_id, major, university, project_id, \n",
    "     #   data_points = [], __analysis_results = {}, __active = True\n",
    "    #):\n",
    "    def __init__(\n",
    "        self, project_id, \n",
    "        data_points = [], __analysis_results = {}, __active = True\n",
    "    ):\n",
    "        self.student_id = student_id\n",
    "        self.major = major\n",
    "        self.university = university\n",
    "        self.project_id = project_id\n",
    "        self.data_points = data_points\n",
    "        self.__analysis_results = __analysis_results\n",
    "        self.__active = __active\n",
    "\n",
    "        # Checking if any of the data points passed into the object \n",
    "        # contain anything other than floats or integers.\n",
    "        for value in self.data_points:\n",
    "             if not isinstance(value, (int, float)):\n",
    "                print(\"Non-numerical value found:\", value)\n",
    "                raise ValueError(\"Non-numerical value found.\")\n",
    "\n",
    "    # Adding a new value to data points but first checking if the value\n",
    "    # being passed in is an integer or float. If not returning an error\n",
    "    def add_data(self, new_data):\n",
    "        if isinstance(new_data, (int, float)):\n",
    "            self.data_points.append(new_data)\n",
    "            \n",
    "        else:\n",
    "            print(\"Input must be a number.\")\n",
    "            raise ValueError(\"Input must be a number\")\n",
    "\n",
    "    # If perform_analysis (further down) is called and runs correctly\n",
    "    # this function will return the results as they can't (shouldn't) be \n",
    "    # be called directly considering they are private.\n",
    "    def get_results(self):\n",
    "        return self.__analysis_results\n",
    "\n",
    "    # returns the private attribute of __active.\n",
    "    def is_active(self):\n",
    "        return self.__active\n",
    "\n",
    "    # Lets the active status be changed but first checks if the status\n",
    "    # being passed in is a bool and returning an error if its not\n",
    "    def set_active(self, status):\n",
    "        if isinstance(status, (bool)):\n",
    "            self.__active = status\n",
    "\n",
    "        else:\n",
    "            print(\"Input must be either True or False.\")\n",
    "            raise ValueError\n",
    "\n",
    "    # performing analysis on the data set to find the mean, median, and \n",
    "    # sample variance of the dataset. If the data set is empty, then \n",
    "    # we would end up with a divide by 0 situation \n",
    "    def perform_analysis(self):\n",
    "        try:\n",
    "            n = len(self.data_points)\n",
    "            if n == 0:\n",
    "                print(\"No data points found. Nothing to analyze.\")\n",
    "                return\n",
    "\n",
    "            # Calculating mean\n",
    "            total = 0.0\n",
    "            \n",
    "            for x in self.data_points:\n",
    "                total += x\n",
    "            mean = total / n\n",
    "\n",
    "            # Calculating median\n",
    "            ordered = sorted(self.data_points)\n",
    "            if n % 2 == 1:\n",
    "                median = ordered[n // 2]\n",
    "                \n",
    "            else:\n",
    "                l_mid = ordered[n // 2-1]\n",
    "                u_mid = ordered[n // 2]\n",
    "                median = (l_mid + u_mid) / 2\n",
    "\n",
    "            # Calculating sample variance\n",
    "            sum_square_diff = 0.0\n",
    "            for i in self.data_points:\n",
    "                sum_square_diff += (i - mean) ** 2\n",
    "\n",
    "            if n > 1:\n",
    "                variance = sum_square_diff / (n - 1)\n",
    "\n",
    "            # If n is less than 1 then it is 0 and the set is empty and\n",
    "            # will be caught by the above exception. But if it is 1\n",
    "            # then this would still cause a divide by zero exception as\n",
    "            # we would have 0 divided by 0 for a sample variance.\n",
    "            # However we can instead just consider any data set of \n",
    "            # of 0 to have a variance of 0 as obviously it doesn't\n",
    "            # vary with itself and is just a quirk of the sample\n",
    "            # variance equation hedging its bets with n-1. So we \n",
    "            # will set it equal to 0.0.\n",
    "            else:\n",
    "                variance = 0.0\n",
    "\n",
    "            self.__analysis_results = {\n",
    "                \"mean\": float(f\"{mean:.6f}\"),\n",
    "                \"median\": float(f\"{median:.6f}\"),\n",
    "                \"variance\": float(f\"{variance:.6f}\")\n",
    "            }\n",
    "        except:\n",
    "            print(\"Error apparently\")\n"
   ]
  },
  {
   "cell_type": "markdown",
   "id": "509b030a",
   "metadata": {},
   "source": [
    "#### Testing Proper Functionality "
   ]
  },
  {
   "cell_type": "code",
   "execution_count": 5,
   "id": "07d57365-3c20-4d85-b192-07754d5dabdb",
   "metadata": {},
   "outputs": [
    {
     "name": "stdout",
     "output_type": "stream",
     "text": [
      "Student id is : 1001\n",
      "Major: Data Science\n",
      "University:Harvard\n"
     ]
    }
   ],
   "source": [
    "# Test Student Class constructor with student_id 1001, major\n",
    "# \"Data Science, and university Harvard\"\n",
    "\n",
    "john = Student(1001, \"Data Science\", \"Harvard\")\n",
    "print(f\"Student id is : {john.student_id}\\nMajor: {john.major}\\nUniversity:{john.university}\")\n",
    "\n"
   ]
  },
  {
   "cell_type": "code",
   "execution_count": 6,
   "id": "7af7127e-ae3d-47aa-b0f6-35b9b64448c6",
   "metadata": {},
   "outputs": [
    {
     "ename": "TypeError",
     "evalue": "Project.__init__() takes from 2 to 5 positional arguments but 6 were given",
     "output_type": "error",
     "traceback": [
      "\u001b[0;31m---------------------------------------------------------------------------\u001b[0m",
      "\u001b[0;31mTypeError\u001b[0m                                 Traceback (most recent call last)",
      "Cell \u001b[0;32mIn[6], line 4\u001b[0m\n\u001b[1;32m      1\u001b[0m \u001b[38;5;66;03m#Example 2- Test Project Class constructor with student_id 1001, major \"Data Science, university Harvard, project_id 1, \u001b[39;00m\n\u001b[1;32m      2\u001b[0m \u001b[38;5;66;03m#data_points [65,75,95,99]\"\u001b[39;00m\n\u001b[0;32m----> 4\u001b[0m my_project \u001b[38;5;241m=\u001b[39m Project(\u001b[38;5;241m1001\u001b[39m, \u001b[38;5;124m\"\u001b[39m\u001b[38;5;124mData Science\u001b[39m\u001b[38;5;124m\"\u001b[39m, \u001b[38;5;124m\"\u001b[39m\u001b[38;5;124mHarvard\u001b[39m\u001b[38;5;124m\"\u001b[39m, \u001b[38;5;241m1\u001b[39m, [\u001b[38;5;241m65\u001b[39m,\u001b[38;5;241m75\u001b[39m,\u001b[38;5;241m95\u001b[39m,\u001b[38;5;241m99\u001b[39m])\n\u001b[1;32m      5\u001b[0m \u001b[38;5;28mprint\u001b[39m(\u001b[38;5;124mf\u001b[39m\u001b[38;5;124m\"\u001b[39m\u001b[38;5;124mStudent id is : \u001b[39m\u001b[38;5;132;01m{\u001b[39;00mmy_project\u001b[38;5;241m.\u001b[39mstudent_id\u001b[38;5;132;01m}\u001b[39;00m\u001b[38;5;130;01m\\n\u001b[39;00m\u001b[38;5;124mMajor: \u001b[39m\u001b[38;5;132;01m{\u001b[39;00mmy_project\u001b[38;5;241m.\u001b[39mmajor\u001b[38;5;132;01m}\u001b[39;00m\u001b[38;5;130;01m\\n\u001b[39;00m\u001b[38;5;124mUniversity:\u001b[39m\u001b[38;5;132;01m{\u001b[39;00mmy_project\u001b[38;5;241m.\u001b[39muniversity\u001b[38;5;132;01m}\u001b[39;00m\u001b[38;5;130;01m\\n\u001b[39;00m\u001b[38;5;130;01m\\\u001b[39;00m\n\u001b[1;32m      6\u001b[0m \u001b[38;5;124mproject_id:\u001b[39m\u001b[38;5;132;01m{\u001b[39;00mmy_project\u001b[38;5;241m.\u001b[39mproject_id\u001b[38;5;132;01m}\u001b[39;00m\u001b[38;5;130;01m\\n\u001b[39;00m\u001b[38;5;124mdata_points : \u001b[39m\u001b[38;5;132;01m{\u001b[39;00mmy_project\u001b[38;5;241m.\u001b[39mdata_points\u001b[38;5;132;01m}\u001b[39;00m\u001b[38;5;130;01m\\n\u001b[39;00m\u001b[38;5;124mis_active:\u001b[39m\u001b[38;5;132;01m{\u001b[39;00mmy_project\u001b[38;5;241m.\u001b[39mis_active()\u001b[38;5;132;01m}\u001b[39;00m\u001b[38;5;124m\"\u001b[39m )\n",
      "\u001b[0;31mTypeError\u001b[0m: Project.__init__() takes from 2 to 5 positional arguments but 6 were given"
     ]
    }
   ],
   "source": [
    "# Test Project Class constructor with student_id 1001, \n",
    "# major \"Data Science, university Harvard, project_id 1, \n",
    "#data_points [65,75,95,99]\"\n",
    "\n",
    "my_project = Project(1001, \"Data Science\", \"Harvard\", 1, [65,75,95,99])\n",
    "print(f\"Student id is : {my_project.student_id}\\nMajor: {my_project.major}\\nUniversity:{my_project.university}\\n\\\n",
    "project_id:{my_project.project_id}\\ndata_points : {my_project.data_points}\\nis_active:{my_project.is_active()}\" )\n"
   ]
  },
  {
   "cell_type": "code",
   "execution_count": 5,
   "id": "6baae78b-7a84-4e65-97ce-fe4017e1ccd7",
   "metadata": {},
   "outputs": [
    {
     "name": "stdout",
     "output_type": "stream",
     "text": [
      "data_points :[65, 75, 95, 99, 5]\n",
      "Input must be a number.\n"
     ]
    },
    {
     "ename": "ValueError",
     "evalue": "Input must be a number",
     "output_type": "error",
     "traceback": [
      "\u001b[0;31m---------------------------------------------------------------------------\u001b[0m",
      "\u001b[0;31mValueError\u001b[0m                                Traceback (most recent call last)",
      "Cell \u001b[0;32mIn[5], line 15\u001b[0m\n\u001b[1;32m     13\u001b[0m \u001b[38;5;66;03m# Testing with a string to create an error\u001b[39;00m\n\u001b[1;32m     14\u001b[0m my_project2 \u001b[38;5;241m=\u001b[39m Project(\u001b[38;5;241m1001\u001b[39m, \u001b[38;5;124m\"\u001b[39m\u001b[38;5;124mData Science\u001b[39m\u001b[38;5;124m\"\u001b[39m, \u001b[38;5;124m\"\u001b[39m\u001b[38;5;124mHarvard\u001b[39m\u001b[38;5;124m\"\u001b[39m, \u001b[38;5;241m1\u001b[39m, [\u001b[38;5;241m65\u001b[39m,\u001b[38;5;241m75\u001b[39m,\u001b[38;5;241m95\u001b[39m,\u001b[38;5;241m99\u001b[39m])\n\u001b[0;32m---> 15\u001b[0m my_project2\u001b[38;5;241m.\u001b[39madd_data(\u001b[38;5;124m\"\u001b[39m\u001b[38;5;124mr\u001b[39m\u001b[38;5;124m\"\u001b[39m)\n\u001b[1;32m     17\u001b[0m \u001b[38;5;28mprint\u001b[39m(\u001b[38;5;124mf\u001b[39m\u001b[38;5;124m\"\u001b[39m\u001b[38;5;124mdata_points :\u001b[39m\u001b[38;5;132;01m{\u001b[39;00mmy_project2\u001b[38;5;241m.\u001b[39mdata_points\u001b[38;5;132;01m}\u001b[39;00m\u001b[38;5;124m\"\u001b[39m )\n",
      "Cell \u001b[0;32mIn[2], line 32\u001b[0m, in \u001b[0;36mProject.add_data\u001b[0;34m(self, new_data)\u001b[0m\n\u001b[1;32m     30\u001b[0m \u001b[38;5;28;01melse\u001b[39;00m:\n\u001b[1;32m     31\u001b[0m     \u001b[38;5;28mprint\u001b[39m(\u001b[38;5;124m\"\u001b[39m\u001b[38;5;124mInput must be a number.\u001b[39m\u001b[38;5;124m\"\u001b[39m)\n\u001b[0;32m---> 32\u001b[0m     \u001b[38;5;28;01mraise\u001b[39;00m \u001b[38;5;167;01mValueError\u001b[39;00m(\u001b[38;5;124m\"\u001b[39m\u001b[38;5;124mInput must be a number\u001b[39m\u001b[38;5;124m\"\u001b[39m)\n",
      "\u001b[0;31mValueError\u001b[0m: Input must be a number"
     ]
    }
   ],
   "source": [
    "#your test case here\n",
    "# Testing if the proper error occurs when entering something with \n",
    "# add_data thats not a number. Will first test with a \n",
    "# a correct call and then one with an error. \n",
    "# The second should return raised value error and\n",
    "# message\n",
    "\n",
    "my_project1 = Project(1001, \"Data Science\", \"Harvard\", 1, [65,75,95,99])\n",
    "my_project1.add_data(5)\n",
    "\n",
    "print(f\"data_points :{my_project1.data_points}\" )\n",
    "\n",
    "# Testing with a string to create an error\n",
    "my_project2 = Project(1001, \"Data Science\", \"Harvard\", 1, [65,75,95,99])\n",
    "my_project2.add_data(\"r\")\n",
    "\n",
    "print(f\"data_points :{my_project2.data_points}\" )"
   ]
  },
  {
   "cell_type": "code",
   "execution_count": 6,
   "id": "0d46c359-44ba-46ba-9fcd-3db0a6d48b73",
   "metadata": {},
   "outputs": [
    {
     "name": "stdout",
     "output_type": "stream",
     "text": [
      "Non-numerical value found: 75\n"
     ]
    },
    {
     "ename": "ValueError",
     "evalue": "Non-numerical value found.",
     "output_type": "error",
     "traceback": [
      "\u001b[0;31m---------------------------------------------------------------------------\u001b[0m",
      "\u001b[0;31mValueError\u001b[0m                                Traceback (most recent call last)",
      "Cell \u001b[0;32mIn[6], line 4\u001b[0m\n\u001b[1;32m      1\u001b[0m \u001b[38;5;66;03m#your test case here\u001b[39;00m\n\u001b[1;32m      2\u001b[0m \u001b[38;5;66;03m# Testing if it can find errors in the pre entered datapoints list.\u001b[39;00m\n\u001b[1;32m      3\u001b[0m \u001b[38;5;66;03m# Should return a value error.\u001b[39;00m\n\u001b[0;32m----> 4\u001b[0m my_project3 \u001b[38;5;241m=\u001b[39m Project(\u001b[38;5;241m1001\u001b[39m, \u001b[38;5;124m\"\u001b[39m\u001b[38;5;124mData Science\u001b[39m\u001b[38;5;124m\"\u001b[39m, \u001b[38;5;124m\"\u001b[39m\u001b[38;5;124mHarvard\u001b[39m\u001b[38;5;124m\"\u001b[39m, \u001b[38;5;241m1\u001b[39m, [\u001b[38;5;241m65\u001b[39m,\u001b[38;5;124m\"\u001b[39m\u001b[38;5;124m75\u001b[39m\u001b[38;5;124m\"\u001b[39m,\u001b[38;5;241m95\u001b[39m,\u001b[38;5;241m99\u001b[39m])\n\u001b[1;32m      5\u001b[0m \u001b[38;5;28mprint\u001b[39m(\u001b[38;5;124mf\u001b[39m\u001b[38;5;124m\"\u001b[39m\u001b[38;5;124mStudent id is : \u001b[39m\u001b[38;5;132;01m{\u001b[39;00mmy_project\u001b[38;5;241m.\u001b[39mstudent_id\u001b[38;5;132;01m}\u001b[39;00m\u001b[38;5;130;01m\\n\u001b[39;00m\u001b[38;5;124mMajor: \u001b[39m\u001b[38;5;130;01m\\\u001b[39;00m\n\u001b[1;32m      6\u001b[0m \u001b[38;5;132;01m{\u001b[39;00mmy_project\u001b[38;5;241m.\u001b[39mmajor\u001b[38;5;132;01m}\u001b[39;00m\u001b[38;5;130;01m\\n\u001b[39;00m\u001b[38;5;124mUniversity:\u001b[39m\u001b[38;5;132;01m{\u001b[39;00mmy_project\u001b[38;5;241m.\u001b[39muniversity\u001b[38;5;132;01m}\u001b[39;00m\u001b[38;5;130;01m\\n\u001b[39;00m\u001b[38;5;130;01m\\\u001b[39;00m\n\u001b[1;32m      7\u001b[0m \u001b[38;5;124mproject_id:\u001b[39m\u001b[38;5;132;01m{\u001b[39;00mmy_project\u001b[38;5;241m.\u001b[39mproject_id\u001b[38;5;132;01m}\u001b[39;00m\u001b[38;5;130;01m\\n\u001b[39;00m\u001b[38;5;124mdata_points :\u001b[39m\u001b[38;5;130;01m\\\u001b[39;00m\n\u001b[1;32m      8\u001b[0m \u001b[38;5;132;01m{\u001b[39;00mmy_project\u001b[38;5;241m.\u001b[39mdata_points\u001b[38;5;132;01m}\u001b[39;00m\u001b[38;5;130;01m\\n\u001b[39;00m\u001b[38;5;124mis_active:\u001b[39m\u001b[38;5;132;01m{\u001b[39;00mmy_project\u001b[38;5;241m.\u001b[39mis_active()\u001b[38;5;132;01m}\u001b[39;00m\u001b[38;5;124m\"\u001b[39m )\n",
      "Cell \u001b[0;32mIn[2], line 22\u001b[0m, in \u001b[0;36mProject.__init__\u001b[0;34m(self, student_id, major, university, project_id, data_points, _Project__analysis_results, _Project__active)\u001b[0m\n\u001b[1;32m     20\u001b[0m \u001b[38;5;28;01mif\u001b[39;00m \u001b[38;5;129;01mnot\u001b[39;00m \u001b[38;5;28misinstance\u001b[39m(value, (\u001b[38;5;28mint\u001b[39m, \u001b[38;5;28mfloat\u001b[39m)):\n\u001b[1;32m     21\u001b[0m    \u001b[38;5;28mprint\u001b[39m(\u001b[38;5;124m\"\u001b[39m\u001b[38;5;124mNon-numerical value found:\u001b[39m\u001b[38;5;124m\"\u001b[39m, value)\n\u001b[0;32m---> 22\u001b[0m    \u001b[38;5;28;01mraise\u001b[39;00m \u001b[38;5;167;01mValueError\u001b[39;00m(\u001b[38;5;124m\"\u001b[39m\u001b[38;5;124mNon-numerical value found.\u001b[39m\u001b[38;5;124m\"\u001b[39m)\n",
      "\u001b[0;31mValueError\u001b[0m: Non-numerical value found."
     ]
    }
   ],
   "source": [
    "#your test case here\n",
    "# Testing if it can find errors in the pre entered datapoints list.\n",
    "# Should return a value error.\n",
    "my_project3 = Project(1001, \"Data Science\", \"Harvard\", 1, [65,\"75\",95,99])\n",
    "print(f\"Student id is : {my_project.student_id}\\nMajor: \\\n",
    "{my_project.major}\\nUniversity:{my_project.university}\\n\\\n",
    "project_id:{my_project.project_id}\\ndata_points :\\\n",
    "{my_project.data_points}\\nis_active:{my_project.is_active()}\" )"
   ]
  },
  {
   "cell_type": "code",
   "execution_count": 7,
   "id": "e6f87432-ea3e-4eb3-b63d-88b06035e7af",
   "metadata": {},
   "outputs": [
    {
     "name": "stdout",
     "output_type": "stream",
     "text": [
      "is_active:False\n",
      "Input must be either True or False.\n"
     ]
    },
    {
     "ename": "ValueError",
     "evalue": "",
     "output_type": "error",
     "traceback": [
      "\u001b[0;31m---------------------------------------------------------------------------\u001b[0m",
      "\u001b[0;31mValueError\u001b[0m                                Traceback (most recent call last)",
      "Cell \u001b[0;32mIn[7], line 11\u001b[0m\n\u001b[1;32m      8\u001b[0m \u001b[38;5;28mprint\u001b[39m(\u001b[38;5;124mf\u001b[39m\u001b[38;5;124m\"\u001b[39m\u001b[38;5;124mis_active:\u001b[39m\u001b[38;5;132;01m{\u001b[39;00mmy_project4\u001b[38;5;241m.\u001b[39mis_active()\u001b[38;5;132;01m}\u001b[39;00m\u001b[38;5;124m\"\u001b[39m )\n\u001b[1;32m     10\u001b[0m my_project5 \u001b[38;5;241m=\u001b[39m Project(\u001b[38;5;241m1001\u001b[39m, \u001b[38;5;124m\"\u001b[39m\u001b[38;5;124mData Science\u001b[39m\u001b[38;5;124m\"\u001b[39m, \u001b[38;5;124m\"\u001b[39m\u001b[38;5;124mHarvard\u001b[39m\u001b[38;5;124m\"\u001b[39m, \u001b[38;5;241m1\u001b[39m, [\u001b[38;5;241m65\u001b[39m,\u001b[38;5;241m75\u001b[39m,\u001b[38;5;241m95\u001b[39m,\u001b[38;5;241m99\u001b[39m])\n\u001b[0;32m---> 11\u001b[0m my_project5\u001b[38;5;241m.\u001b[39mset_active(\u001b[38;5;124m\"\u001b[39m\u001b[38;5;124mNoodles\u001b[39m\u001b[38;5;124m\"\u001b[39m)\n\u001b[1;32m     12\u001b[0m \u001b[38;5;28mprint\u001b[39m(\u001b[38;5;124mf\u001b[39m\u001b[38;5;124m\"\u001b[39m\u001b[38;5;124mis_active:\u001b[39m\u001b[38;5;132;01m{\u001b[39;00mmy_project5\u001b[38;5;241m.\u001b[39mis_active()\u001b[38;5;132;01m}\u001b[39;00m\u001b[38;5;124m\"\u001b[39m )\n",
      "Cell \u001b[0;32mIn[2], line 52\u001b[0m, in \u001b[0;36mProject.set_active\u001b[0;34m(self, status)\u001b[0m\n\u001b[1;32m     50\u001b[0m \u001b[38;5;28;01melse\u001b[39;00m:\n\u001b[1;32m     51\u001b[0m     \u001b[38;5;28mprint\u001b[39m(\u001b[38;5;124m\"\u001b[39m\u001b[38;5;124mInput must be either True or False.\u001b[39m\u001b[38;5;124m\"\u001b[39m)\n\u001b[0;32m---> 52\u001b[0m     \u001b[38;5;28;01mraise\u001b[39;00m \u001b[38;5;167;01mValueError\u001b[39;00m\n",
      "\u001b[0;31mValueError\u001b[0m: "
     ]
    }
   ],
   "source": [
    "#your test case here\n",
    "# Testing if the program detects the lack of a bool being entered for \n",
    "# status. Will test that it works properly first and then test the error\n",
    "# Should also return an error eventually after returning the correct\n",
    "# status\n",
    "my_project4 = Project(1001, \"Data Science\", \"Harvard\", 1, [65,75,95,99])\n",
    "my_project4.set_active(False)\n",
    "print(f\"is_active:{my_project4.is_active()}\" )\n",
    "\n",
    "my_project5 = Project(1001, \"Data Science\", \"Harvard\", 1, [65,75,95,99])\n",
    "my_project5.set_active(\"Noodles\")\n",
    "print(f\"is_active:{my_project5.is_active()}\" )"
   ]
  },
  {
   "cell_type": "code",
   "execution_count": 8,
   "id": "306452e0-6f6a-4627-9bdb-8d7a9a21e8cf",
   "metadata": {},
   "outputs": [
    {
     "name": "stdout",
     "output_type": "stream",
     "text": [
      "Student id is : 1001\n",
      "Major: Data Science\n",
      "University:Harvard\n",
      "project_id:1\n",
      "data_points :[65, 75, 95, 99]\n",
      "is_active:True\n",
      "Analysis of Project: {'mean': 83.5, 'median': 85.0, 'variance': 262.333333}\n"
     ]
    }
   ],
   "source": [
    "#your test case here\n",
    "my_project6 = Project(1001, \"Data Science\", \"Harvard\", 1, [65,75,95,99])\n",
    "my_project6.perform_analysis()\n",
    "print(f\"Student id is : {my_project6.student_id}\\nMajor: \\\n",
    "{my_project6.major}\\nUniversity:{my_project6.university}\\n\\\n",
    "project_id:{my_project6.project_id}\\ndata_points :\\\n",
    "{my_project6.data_points}\\nis_active:{my_project6.is_active()}\\\n",
    "\\nAnalysis of Project: {my_project6.get_results()}\")\n"
   ]
  },
  {
   "cell_type": "code",
   "execution_count": 9,
   "id": "0fa3228b",
   "metadata": {},
   "outputs": [
    {
     "name": "stdout",
     "output_type": "stream",
     "text": [
      "No data points found. Nothing to analyze.\n",
      "Analysis of Project: {}\n"
     ]
    }
   ],
   "source": [
    "#your test case here\n",
    "# Testing without a empty set to see if the zero error is caught\n",
    "\n",
    "my_project7 = Project(1001, \"Data Science\", \"Harvard\", 1)\n",
    "my_project7.perform_analysis()\n",
    "print(\"Analysis of Project:\", my_project7.get_results())"
   ]
  },
  {
   "cell_type": "code",
   "execution_count": 10,
   "id": "c4086410-614d-453a-98fe-fa9cd8c8b259",
   "metadata": {},
   "outputs": [
    {
     "name": "stdout",
     "output_type": "stream",
     "text": [
      "Analysis of Project: {'mean': 5.0, 'median': 5.0, 'variance': 0.0}\n"
     ]
    }
   ],
   "source": [
    "# Additional test for when there is only one data point, if that will \n",
    "# cause a divide by 0 sitution and how it will be handled.\n",
    "my_project8 = Project(1001, \"Data Science\", \"Harvard\", 1, [5])\n",
    "my_project8.perform_analysis()\n",
    "print(\"Analysis of Project:\", my_project8.get_results())"
   ]
  },
  {
   "cell_type": "markdown",
   "id": "92e49b28-6cf1-4b21-9f3d-0a85cba5b79b",
   "metadata": {},
   "source": [
    "### Tests Class and Objects are created, and perform_analysis yields results as expected."
   ]
  },
  {
   "cell_type": "code",
   "execution_count": 11,
   "id": "3155b352-9639-48c4-a61d-5a3da37b91c7",
   "metadata": {},
   "outputs": [
    {
     "name": "stdout",
     "output_type": "stream",
     "text": [
      "Student id : 1000\n",
      "Major: Computer Science\n",
      "University:HARVARD\n",
      "project_id:1\n",
      "data_points : [65, 75, 95, 99]\n",
      "is_active:True\n",
      "analysis results :{'mean': 83.5, 'median': 85.0, 'variance': 262.333333}\n",
      "\n",
      "Student id : 1001\n",
      "Major: Computer Science\n",
      "University:MIT\n",
      "project_id:2\n",
      "data_points : [95, 35, 75, 90, 91]\n",
      "is_active:True\n",
      "analysis results :{'mean': 77.2, 'median': 90.0, 'variance': 614.2}\n",
      "\n",
      "Student id : 1003\n",
      "Major: Data Science\n",
      "University:Cornell\n",
      "project_id:3\n",
      "data_points : [75, 85, 95, 99, 33]\n",
      "is_active:True\n",
      "analysis results :{'mean': 77.4, 'median': 85.0, 'variance': 702.8}\n",
      "\n"
     ]
    }
   ],
   "source": [
    "test1 = [(1000, 'Computer Science', 'HARVARD', 1, [65,75,95,99]),(1001, 'Computer Science', 'MIT', 2, [95,35,75,90,91]),\\\n",
    "         (1003,'Data Science', 'Cornell', 3, [75,85,95,99,33])]\n",
    "\n",
    "\n",
    "for test in test1:\n",
    "    project = Project(test[0],test[1],test[2],test[3],test[4])\n",
    "    project.perform_analysis()\n",
    "    project_info = f\"Student id : {project.student_id}\\nMajor: {project.major}\\nUniversity:{project.university}\\n\\\n",
    "project_id:{project.project_id}\\ndata_points : {project.data_points}\\nis_active:{project.is_active()}\"\n",
    "    print(project_info)\n",
    "    print(f\"analysis results :{project.get_results()}\\n\")\n"
   ]
  },
  {
   "cell_type": "markdown",
   "id": "ad6371de-1f38-4860-af92-60946a5e3d56",
   "metadata": {},
   "source": [
    "### Tests if data points can be added and data statistics are updated."
   ]
  },
  {
   "cell_type": "code",
   "execution_count": 12,
   "id": "8d9950ad-7528-492b-b6f2-c92981fb8d61",
   "metadata": {},
   "outputs": [
    {
     "name": "stdout",
     "output_type": "stream",
     "text": [
      "analysis results before : {'mean': 83.5, 'median': 85.0, 'variance': 262.333333}\n",
      "analysis results after: {'mean': 71.2, 'median': 75.0, 'variance': 953.2}\n"
     ]
    }
   ],
   "source": [
    "test = (1000, 'Computer Science', 'HARVARD', 1, [65,75,95,99])\n",
    "project = Project(test[0],test[1],test[2],test[3],test[4])\n",
    "project.perform_analysis()\n",
    "print(f\"analysis results before : {project.get_results()}\")\n",
    "project.add_data(22)\n",
    "project.perform_analysis()\n",
    "print(f\"analysis results after: {project.get_results()}\")\n"
   ]
  },
  {
   "cell_type": "markdown",
   "id": "1e5f8743-0879-4d3d-b095-907778d1986c",
   "metadata": {},
   "source": [
    "### Tests if active can be set\n"
   ]
  },
  {
   "cell_type": "code",
   "execution_count": 13,
   "id": "dd6ea14a-46f6-4e43-ada8-d63a18c1dda0",
   "metadata": {},
   "outputs": [
    {
     "name": "stdout",
     "output_type": "stream",
     "text": [
      "value of active at initialization: True\n",
      "value of active after calling set method: False\n"
     ]
    }
   ],
   "source": [
    "test = (1000, 'Computer Science', 'HARVARD', 1, [65,75,95,99])\n",
    "project = Project(test[0],test[1],test[2],test[3],test[4])\n",
    "print(f\"value of active at initialization: {project.is_active()}\")\n",
    "project.set_active(False)\n",
    "print(f\"value of active after calling set method: {project.is_active()}\")"
   ]
  },
  {
   "cell_type": "markdown",
   "id": "2d7cf656-b99e-4010-a5b2-f4fb69d58f6b",
   "metadata": {},
   "source": [
    "### Tests if perform_analysis can handle exceptions for empty list "
   ]
  },
  {
   "cell_type": "code",
   "execution_count": 14,
   "id": "497d0c21-8a5c-4abf-82cb-da965de35c29",
   "metadata": {},
   "outputs": [
    {
     "name": "stdout",
     "output_type": "stream",
     "text": [
      "Test #1 : Test perform analysis if the data points is an empty list.\n",
      "No data points found. Nothing to analyze.\n"
     ]
    }
   ],
   "source": [
    "test1 = (1000, 'Computer Science', 'HARVARD', 1, [])\n",
    "\n",
    "print(f\"Test #1 : Test perform analysis if the data points is an empty list.\")\n",
    "project = Project(test1[0],test1[1],test1[2],test1[3],test1[4])\n",
    "project.perform_analysis()\n",
    "\n",
    "\n",
    "\n",
    "    "
   ]
  },
  {
   "cell_type": "markdown",
   "id": "a83c5c38-150f-4c20-acb4-5f9e834c9ae0",
   "metadata": {},
   "source": [
    "### Tests if constructor raises an error if non-numerical values are present in data_points"
   ]
  },
  {
   "cell_type": "code",
   "execution_count": 15,
   "id": "25e783fc-a277-43d7-837e-c3308b0a5b5b",
   "metadata": {},
   "outputs": [
    {
     "name": "stdout",
     "output_type": "stream",
     "text": [
      "Non-numerical value found: a\n"
     ]
    },
    {
     "ename": "ValueError",
     "evalue": "Non-numerical value found.",
     "output_type": "error",
     "traceback": [
      "\u001b[0;31m---------------------------------------------------------------------------\u001b[0m",
      "\u001b[0;31mValueError\u001b[0m                                Traceback (most recent call last)",
      "Cell \u001b[0;32mIn[15], line 3\u001b[0m\n\u001b[1;32m      1\u001b[0m test2 \u001b[38;5;241m=\u001b[39m (\u001b[38;5;241m1001\u001b[39m, \u001b[38;5;124m'\u001b[39m\u001b[38;5;124mComputer Science\u001b[39m\u001b[38;5;124m'\u001b[39m, \u001b[38;5;124m'\u001b[39m\u001b[38;5;124mMIT\u001b[39m\u001b[38;5;124m'\u001b[39m, \u001b[38;5;241m2\u001b[39m, [\u001b[38;5;241m95\u001b[39m,\u001b[38;5;241m35\u001b[39m,\u001b[38;5;241m75\u001b[39m,\u001b[38;5;241m90\u001b[39m,\u001b[38;5;124m'\u001b[39m\u001b[38;5;124ma\u001b[39m\u001b[38;5;124m'\u001b[39m])\n\u001b[1;32m      2\u001b[0m \u001b[38;5;66;03m#print(f\"\\nTest #3 : Test constructor if data points has non-numerical values.\")\u001b[39;00m\n\u001b[0;32m----> 3\u001b[0m project \u001b[38;5;241m=\u001b[39m Project(test2[\u001b[38;5;241m0\u001b[39m],test2[\u001b[38;5;241m1\u001b[39m],test2[\u001b[38;5;241m2\u001b[39m],test2[\u001b[38;5;241m3\u001b[39m],test2[\u001b[38;5;241m4\u001b[39m])\n",
      "Cell \u001b[0;32mIn[2], line 22\u001b[0m, in \u001b[0;36mProject.__init__\u001b[0;34m(self, student_id, major, university, project_id, data_points, _Project__analysis_results, _Project__active)\u001b[0m\n\u001b[1;32m     20\u001b[0m \u001b[38;5;28;01mif\u001b[39;00m \u001b[38;5;129;01mnot\u001b[39;00m \u001b[38;5;28misinstance\u001b[39m(value, (\u001b[38;5;28mint\u001b[39m, \u001b[38;5;28mfloat\u001b[39m)):\n\u001b[1;32m     21\u001b[0m    \u001b[38;5;28mprint\u001b[39m(\u001b[38;5;124m\"\u001b[39m\u001b[38;5;124mNon-numerical value found:\u001b[39m\u001b[38;5;124m\"\u001b[39m, value)\n\u001b[0;32m---> 22\u001b[0m    \u001b[38;5;28;01mraise\u001b[39;00m \u001b[38;5;167;01mValueError\u001b[39;00m(\u001b[38;5;124m\"\u001b[39m\u001b[38;5;124mNon-numerical value found.\u001b[39m\u001b[38;5;124m\"\u001b[39m)\n",
      "\u001b[0;31mValueError\u001b[0m: Non-numerical value found."
     ]
    }
   ],
   "source": [
    "test2 = (1001, 'Computer Science', 'MIT', 2, [95,35,75,90,'a'])\n",
    "#print(f\"\\nTest #3 : Test constructor if data points has non-numerical values.\")\n",
    "project = Project(test2[0],test2[1],test2[2],test2[3],test2[4])\n",
    "\n"
   ]
  },
  {
   "cell_type": "markdown",
   "id": "c184125e-2c2a-42cb-9b31-03174d05a96d",
   "metadata": {},
   "source": [
    "### Tests if adding non-numerical values to data_points raises an error"
   ]
  },
  {
   "cell_type": "code",
   "execution_count": 16,
   "id": "608837b8-49e7-4481-80e5-272ed593cba7",
   "metadata": {},
   "outputs": [
    {
     "name": "stdout",
     "output_type": "stream",
     "text": [
      "Input must be a number.\n"
     ]
    },
    {
     "ename": "ValueError",
     "evalue": "Input must be a number",
     "output_type": "error",
     "traceback": [
      "\u001b[0;31m---------------------------------------------------------------------------\u001b[0m",
      "\u001b[0;31mValueError\u001b[0m                                Traceback (most recent call last)",
      "Cell \u001b[0;32mIn[16], line 3\u001b[0m\n\u001b[1;32m      1\u001b[0m test3 \u001b[38;5;241m=\u001b[39m (\u001b[38;5;241m1000\u001b[39m, \u001b[38;5;124m'\u001b[39m\u001b[38;5;124mComputer Science\u001b[39m\u001b[38;5;124m'\u001b[39m, \u001b[38;5;124m'\u001b[39m\u001b[38;5;124mHARVARD\u001b[39m\u001b[38;5;124m'\u001b[39m, \u001b[38;5;241m3\u001b[39m, [\u001b[38;5;241m100\u001b[39m,\u001b[38;5;241m100\u001b[39m,\u001b[38;5;241m100\u001b[39m])\n\u001b[1;32m      2\u001b[0m project \u001b[38;5;241m=\u001b[39m Project(test3[\u001b[38;5;241m0\u001b[39m],test3[\u001b[38;5;241m1\u001b[39m],test3[\u001b[38;5;241m2\u001b[39m],test3[\u001b[38;5;241m3\u001b[39m],test3[\u001b[38;5;241m4\u001b[39m])\n\u001b[0;32m----> 3\u001b[0m project\u001b[38;5;241m.\u001b[39madd_data(\u001b[38;5;124m'\u001b[39m\u001b[38;5;124mxyz\u001b[39m\u001b[38;5;124m'\u001b[39m)\n",
      "Cell \u001b[0;32mIn[2], line 32\u001b[0m, in \u001b[0;36mProject.add_data\u001b[0;34m(self, new_data)\u001b[0m\n\u001b[1;32m     30\u001b[0m \u001b[38;5;28;01melse\u001b[39;00m:\n\u001b[1;32m     31\u001b[0m     \u001b[38;5;28mprint\u001b[39m(\u001b[38;5;124m\"\u001b[39m\u001b[38;5;124mInput must be a number.\u001b[39m\u001b[38;5;124m\"\u001b[39m)\n\u001b[0;32m---> 32\u001b[0m     \u001b[38;5;28;01mraise\u001b[39;00m \u001b[38;5;167;01mValueError\u001b[39;00m(\u001b[38;5;124m\"\u001b[39m\u001b[38;5;124mInput must be a number\u001b[39m\u001b[38;5;124m\"\u001b[39m)\n",
      "\u001b[0;31mValueError\u001b[0m: Input must be a number"
     ]
    }
   ],
   "source": [
    "test3 = (1000, 'Computer Science', 'HARVARD', 3, [100,100,100])\n",
    "project = Project(test3[0],test3[1],test3[2],test3[3],test3[4])\n",
    "project.add_data('xyz')\n"
   ]
  },
  {
   "cell_type": "markdown",
   "id": "f535c509-473d-4c40-8caa-13241d94a934",
   "metadata": {},
   "source": [
    "### Identification of Class Protocols in pandas\n",
    "      "
   ]
  },
  {
   "cell_type": "code",
   "execution_count": 17,
   "id": "2ff43793-f079-43bb-a577-b444488cb441",
   "metadata": {
    "scrolled": true
   },
   "outputs": [
    {
     "name": "stdout",
     "output_type": "stream",
     "text": [
      "(3, 1)\n"
     ]
    },
    {
     "data": {
      "text/html": [
       "<div>\n",
       "<style scoped>\n",
       "    .dataframe tbody tr th:only-of-type {\n",
       "        vertical-align: middle;\n",
       "    }\n",
       "\n",
       "    .dataframe tbody tr th {\n",
       "        vertical-align: top;\n",
       "    }\n",
       "\n",
       "    .dataframe thead th {\n",
       "        text-align: right;\n",
       "    }\n",
       "</style>\n",
       "<table border=\"1\" class=\"dataframe\">\n",
       "  <thead>\n",
       "    <tr style=\"text-align: right;\">\n",
       "      <th></th>\n",
       "      <th>midterm_scores</th>\n",
       "    </tr>\n",
       "  </thead>\n",
       "  <tbody>\n",
       "    <tr>\n",
       "      <th>0</th>\n",
       "      <td>96</td>\n",
       "    </tr>\n",
       "    <tr>\n",
       "      <th>1</th>\n",
       "      <td>90</td>\n",
       "    </tr>\n",
       "    <tr>\n",
       "      <th>2</th>\n",
       "      <td>85</td>\n",
       "    </tr>\n",
       "  </tbody>\n",
       "</table>\n",
       "</div>"
      ],
      "text/plain": [
       "   midterm_scores\n",
       "0              96\n",
       "1              90\n",
       "2              85"
      ]
     },
     "execution_count": 17,
     "metadata": {},
     "output_type": "execute_result"
    }
   ],
   "source": [
    "import pandas as pd\n",
    "midterm_scores = [96,90,85]\n",
    "df = pd.DataFrame(midterm_scores, columns=['midterm_scores'])\n",
    "\n",
    "shape = df.shape\n",
    "print(shape)\n",
    "df.sort_values(by='midterm_scores', ascending=False)\n"
   ]
  },
  {
   "cell_type": "code",
   "execution_count": 8,
   "id": "dfd4e56e-063c-46c1-b999-f2fc22b37466",
   "metadata": {},
   "outputs": [
    {
     "name": "stdout",
     "output_type": "stream",
     "text": [
      "Bark! My name is Rex\n"
     ]
    }
   ],
   "source": [
    "class Dog:\n",
    "    total_dogs = 0\n",
    "\n",
    "    def __init__(self, name):\n",
    "        self.name = name\n",
    "\n",
    "    def bark(self):\n",
    "        print(\"Bark! My name is \" + self.name)\n",
    "\n",
    "my_dog = Dog(\"Rex\")\n",
    "my_dog.bark()"
   ]
  },
  {
   "cell_type": "markdown",
   "id": "96eab8c9-563e-4b4c-8c29-e28d5db74f6b",
   "metadata": {},
   "source": [
    "1. According to the document pandas.DataFrame which we rename to pd to make it pd.DataFrame is the class name. The parameters being passed to it is the list of midterm scores along with the scores it contains as values, and columns is the other perameter with 'midterm_scores' string being the value that it brings with it.\n",
    "2. The attribute being called on df is shape.\n",
    "3. The method is sort_values and the parameters are by = 'midterm_scores' and ascending = False.\n",
    "\n",
    "\n"
   ]
  }
 ],
 "metadata": {
  "kernelspec": {
   "display_name": "Python [conda env:base] *",
   "language": "python",
   "name": "conda-base-py"
  },
  "language_info": {
   "codemirror_mode": {
    "name": "ipython",
    "version": 3
   },
   "file_extension": ".py",
   "mimetype": "text/x-python",
   "name": "python",
   "nbconvert_exporter": "python",
   "pygments_lexer": "ipython3",
   "version": "3.13.5"
  }
 },
 "nbformat": 4,
 "nbformat_minor": 5
}
